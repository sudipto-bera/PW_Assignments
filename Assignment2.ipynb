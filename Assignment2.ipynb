{
 "cells": [
  {
   "cell_type": "code",
   "execution_count": 2,
   "id": "8afd58bf-9f3b-44f9-a5e7-806c4d113c0d",
   "metadata": {},
   "outputs": [
    {
     "name": "stdin",
     "output_type": "stream",
     "text": [
      "Enter Percentage 80\n"
     ]
    },
    {
     "name": "stdout",
     "output_type": "stream",
     "text": [
      "C\n"
     ]
    }
   ],
   "source": [
    "#program to accept percentage from the user and display the grade according\n",
    "marks=float(input(\"Enter Percentage\"))\n",
    "\n",
    "if marks>90:\n",
    "    print(\"A\")\n",
    "elif marks>80 and marks<=90:\n",
    "    print(\"B\")\n",
    "elif marks>=60 and marks <=80:\n",
    "    print(\"C\")\n",
    "else:\n",
    "    print(\"D\")"
   ]
  },
  {
   "cell_type": "code",
   "execution_count": 3,
   "id": "6e00cc4b-7579-43e9-b81b-28c3e1115e14",
   "metadata": {},
   "outputs": [
    {
     "name": "stdin",
     "output_type": "stream",
     "text": [
      "Enter the price of Bike: 15000\n"
     ]
    },
    {
     "name": "stdout",
     "output_type": "stream",
     "text": [
      "Tax of Bike : 300000.0\n"
     ]
    }
   ],
   "source": [
    "#program to accept the cost price of a bike and display the road tax\n",
    "bike_price=float(input(\"Enter the price of Bike:\"))\n",
    "\n",
    "if bike_price>100000:\n",
    "    tax=bike_price/15*100\n",
    "    print(\"Tax of Bike :\",tax)\n",
    "elif bike_price>50000 and bike_price<=100000:\n",
    "    tax=bike_price/10*100\n",
    "    print(\"Tax of Bike :\",tax)\n",
    "else:\n",
    "    tax=bike_price/5*100\n",
    "    print(\"Tax of Bike :\",tax)\n"
   ]
  },
  {
   "cell_type": "code",
   "execution_count": 4,
   "id": "6dd6c88a-4c52-4540-94b0-204ccd18db04",
   "metadata": {},
   "outputs": [
    {
     "name": "stdin",
     "output_type": "stream",
     "text": [
      "Enter the name of city : Delhi\n"
     ]
    },
    {
     "name": "stdout",
     "output_type": "stream",
     "text": [
      " Red Fort\n"
     ]
    }
   ],
   "source": [
    "# Accept any city from the user and display monuments of that city\n",
    "city=str(input(\"Enter the name of city :\"))\n",
    "\n",
    "if city==\"Delhi\":\n",
    "    print(\" Red Fort\")\n",
    "if city==\"Agra\":\n",
    "    print(\"Taj Mahal\")\n",
    "if city==\"Jal Mahal\":\n",
    "    print(\"Jal Mahal\")\n",
    "\n"
   ]
  },
  {
   "cell_type": "code",
   "execution_count": 6,
   "id": "98199eab-4211-4608-bd19-00e6f25900ac",
   "metadata": {},
   "outputs": [
    {
     "name": "stdout",
     "output_type": "stream",
     "text": [
      "2\n"
     ]
    }
   ],
   "source": [
    "#Check how many times a given number can be divided by 3 before it is less than or equal to 10. \n",
    "def divisible_by_3(num):\n",
    "    count = 0\n",
    "    while num > 10:\n",
    "        num = num / 3\n",
    "        count += 1\n",
    "    return count\n",
    "\n",
    "print(divisible_by_3(50))\n"
   ]
  },
  {
   "cell_type": "code",
   "execution_count": 7,
   "id": "f89499ff-67c7-473e-8e34-786305c16b04",
   "metadata": {},
   "outputs": [
    {
     "name": "stdout",
     "output_type": "stream",
     "text": [
      "1\n",
      "2\n",
      "3\n",
      "4\n",
      "5\n",
      "6\n",
      "7\n",
      "8\n",
      "9\n",
      "10\n"
     ]
    }
   ],
   "source": [
    "\"\"\"\n",
    "The \"while\" loop in Python is used when we want to execute a block of code as long as a certain condition is True.\n",
    "As long as \"condition\" is \"True\", the code inside the loop keeps on executing. \n",
    "When \"condition\" becomes \"False\" , the loops stops and exection continues with the next statement after the loop\n",
    "\"\"\"\n",
    "count = 1\n",
    "\n",
    "while count <= 10:\n",
    "    print(count)\n",
    "    count += 1\n"
   ]
  },
  {
   "cell_type": "code",
   "execution_count": 9,
   "id": "a569a0e4-b890-4db3-828e-42edac007096",
   "metadata": {},
   "outputs": [
    {
     "name": "stdout",
     "output_type": "stream",
     "text": [
      "    *\n",
      "   ***\n",
      "  *****\n",
      " *******\n",
      "*********\n",
      "*****\n",
      "*   *\n",
      "*   *\n",
      "*   *\n",
      "*****\n",
      "1\t2\t3\t4\t5\t6\t7\t8\t9\t10\t\n",
      "2\t4\t6\t8\t10\t12\t14\t16\t18\t20\t\n",
      "3\t6\t9\t12\t15\t18\t21\t24\t27\t30\t\n",
      "4\t8\t12\t16\t20\t24\t28\t32\t36\t40\t\n",
      "5\t10\t15\t20\t25\t30\t35\t40\t45\t50\t\n",
      "6\t12\t18\t24\t30\t36\t42\t48\t54\t60\t\n",
      "7\t14\t21\t28\t35\t42\t49\t56\t63\t70\t\n",
      "8\t16\t24\t32\t40\t48\t56\t64\t72\t80\t\n",
      "9\t18\t27\t36\t45\t54\t63\t72\t81\t90\t\n",
      "10\t20\t30\t40\t50\t60\t70\t80\t90\t100\t\n"
     ]
    }
   ],
   "source": [
    "#Use nested while loop to print 3 different pattern\n",
    "\n",
    "# Pyramid Pattern:\n",
    "rows = 5\n",
    "for i in range(1, rows + 1):\n",
    "    for j in range(rows - i):\n",
    "        print(end=\" \")\n",
    "    for k in range(2 * i - 1):\n",
    "        print(\"*\", end=\"\")\n",
    "    print()\n",
    "    \n",
    "# Hollow square Pattern :\n",
    "rows = 5\n",
    "for i in range(1, rows + 1):\n",
    "    for j in range(1, rows + 1):\n",
    "        if i == 1 or i == rows or j == 1 or j == rows:\n",
    "            print(\"*\", end=\"\")\n",
    "        else:\n",
    "            print(end=\" \")\n",
    "    print()\n",
    "    \n",
    "#Multiplication table Pattern :\n",
    "\n",
    "rows = 10\n",
    "for i in range(1, rows + 1):\n",
    "    for j in range(1, rows + 1):\n",
    "        print(i * j, end=\"\\t\")\n",
    "    print()\n",
    "\n",
    "\n"
   ]
  },
  {
   "cell_type": "code",
   "execution_count": 10,
   "id": "d1121abd-e001-4415-8b70-fce1f5ab74c2",
   "metadata": {},
   "outputs": [
    {
     "name": "stdout",
     "output_type": "stream",
     "text": [
      "10\n",
      "9\n",
      "8\n",
      "7\n",
      "6\n",
      "5\n",
      "4\n",
      "3\n",
      "2\n",
      "1\n"
     ]
    }
   ],
   "source": [
    "#Reverse a while loop to display numbers from 10 to 1\n",
    "i = 10\n",
    "while i >= 1:\n",
    "    print(i)\n",
    "    i -= 1\n"
   ]
  },
  {
   "cell_type": "code",
   "execution_count": null,
   "id": "2d7a6aef-e201-4b65-b55f-5e8a5277f53a",
   "metadata": {},
   "outputs": [],
   "source": []
  }
 ],
 "metadata": {
  "kernelspec": {
   "display_name": "Python 3 (ipykernel)",
   "language": "python",
   "name": "python3"
  },
  "language_info": {
   "codemirror_mode": {
    "name": "ipython",
    "version": 3
   },
   "file_extension": ".py",
   "mimetype": "text/x-python",
   "name": "python",
   "nbconvert_exporter": "python",
   "pygments_lexer": "ipython3",
   "version": "3.10.8"
  }
 },
 "nbformat": 4,
 "nbformat_minor": 5
}
