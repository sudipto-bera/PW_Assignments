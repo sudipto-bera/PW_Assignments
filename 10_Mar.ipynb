{
 "cells": [
  {
   "cell_type": "markdown",
   "id": "19e474b0-b92e-4ea2-b285-68beba4f8424",
   "metadata": {},
   "source": [
    "Estimate Statistics : It's an bserved numerical value used to estimate an unknown population parameter\n",
    "\n",
    "1. Point Estimate :\n",
    "    Single numerical value use to estimate the unknown population parameter . \n",
    "        Ex -Sample mean : 60 is a point estimator of the polulation mean : 65\n",
    "    As we can see their tis huge difference between sample maen and population mean , we use interval estimate\n",
    "    \n",
    "2. Interval Estimate :\n",
    "    Range of values that is use to estimate the unknown population parameter \n",
    "        Ex-  interval estimate : 55-65 for poulation mean : 60\n",
    "    This interval estimate points are called Confidence Interval(CI)"
   ]
  },
  {
   "cell_type": "code",
   "execution_count": 1,
   "id": "6ec063ef-3cf9-4a4a-86b1-3fd09153aea4",
   "metadata": {},
   "outputs": [],
   "source": [
    "def estimate_population_mean(sample_mean, sample_stddev, sample_size):\n",
    "    \"\"\"\n",
    "    Estimates the population mean given a sample mean, standard deviation, and sample size.\n",
    "    \"\"\"\n",
    "    import math\n",
    "    std_error = sample_stddev / math.sqrt(sample_size)\n",
    "    lower_bound = sample_mean - (1.96 * std_error) # 1.96 is the z-score for 95% confidence interval\n",
    "    upper_bound = sample_mean + (1.96 * std_error)\n",
    "    return (lower_bound + upper_bound) / 2\n"
   ]
  },
  {
   "cell_type": "code",
   "execution_count": 2,
   "id": "0cc67c1d-ec84-408c-a925-fe042b6f29d6",
   "metadata": {},
   "outputs": [
    {
     "name": "stdout",
     "output_type": "stream",
     "text": [
      "Estimated population mean: 10.00\n"
     ]
    }
   ],
   "source": [
    "sample_mean = 10\n",
    "sample_stddev = 2\n",
    "sample_size = 100\n",
    "\n",
    "population_mean = estimate_population_mean(sample_mean, sample_stddev, sample_size)\n",
    "print(f\"Estimated population mean: {population_mean:.2f}\")\n"
   ]
  },
  {
   "cell_type": "markdown",
   "id": "d2f2ea0f-2aae-44d1-9466-41f058e24eac",
   "metadata": {},
   "source": [
    "Hypothesis testing is a statistical technique used to determine the likelihood of a hypothesis being true or false. It involves comparing observed data to an expected outcome or theoretical assumption and calculating the probability of obtaining those results by chance. Hypothesis testing is commonly used in scientific research, business analysis, and other fields where data analysis is required.\n",
    "\n",
    "The primary purpose of hypothesis testing is to evaluate the evidence against a null hypothesis, which is a statement that there is no significant difference between two or more groups, or that a particular relationship between variables does not exist. By testing the null hypothesis against an alternative hypothesis, researchers can determine whether the observed results are statistically significant and whether they provide evidence for or against the null hypothesis.\n",
    "\n",
    "The importance of hypothesis testing lies in its ability to provide a framework for making decisions based on data. Hypothesis testing helps researchers and analysts to:\n",
    "\n",
    "1. Validate or invalidate theories: Hypothesis testing enables researchers to determine whether their theories and assumptions are supported by the data or not.\n",
    "\n",
    "2. Make informed decisions: Hypothesis testing allows decision-makers to assess the significance of their findings and make informed decisions based on the evidence.\n",
    "\n",
    "3. Ensure accuracy and reliability: Hypothesis testing helps to ensure that the data used in analysis is accurate and reliable, reducing the risk of drawing incorrect conclusions.\n",
    "\n",
    "4. Improve scientific rigor: Hypothesis testing is an essential component of scientific research, and its use helps to improve the rigor and credibility of research findings.\n",
    "\n",
    "Overall, hypothesis testing is a crucial tool in the analysis of data, enabling researchers and analysts to draw valid conclusions and make informed decisions based on the evidence."
   ]
  },
  {
   "cell_type": "code",
   "execution_count": 3,
   "id": "e1970248-c9eb-4c98-8632-966888583846",
   "metadata": {},
   "outputs": [
    {
     "name": "stdout",
     "output_type": "stream",
     "text": [
      "Reject the null hypothesis. The average weight of male college students is greater than the average weight of female college students.\n"
     ]
    }
   ],
   "source": [
    "import pandas as pd\n",
    "import numpy as np\n",
    "from scipy import stats\n",
    "\n",
    "# Create a sample dataset with weights of male and female college students\n",
    "male_weights = np.array([175, 180, 185, 190, 195, 200])\n",
    "female_weights = np.array([120, 130, 135, 140, 145, 150])\n",
    "\n",
    "# Calculate the means and standard deviations of the two samples\n",
    "male_mean = np.mean(male_weights)\n",
    "female_mean = np.mean(female_weights)\n",
    "male_std = np.std(male_weights, ddof=1)\n",
    "female_std = np.std(female_weights, ddof=1)\n",
    "\n",
    "# Conduct a two-sample t-test assuming unequal variances\n",
    "t, p = stats.ttest_ind(male_weights, female_weights, equal_var=False)\n",
    "\n",
    "# Define the significance level and print the results\n",
    "alpha = 0.05\n",
    "if p < alpha:\n",
    "    print(\"Reject the null hypothesis. The average weight of male college students is greater than the average weight of female college students.\")\n",
    "else:\n",
    "    print(\"Fail to reject the null hypothesis. The average weight of male college students is equal to or less than the average weight of female college students.\")\n"
   ]
  },
  {
   "cell_type": "code",
   "execution_count": 4,
   "id": "bd2bbd66-c2ca-4046-ad75-33d792eebe6c",
   "metadata": {},
   "outputs": [
    {
     "name": "stdout",
     "output_type": "stream",
     "text": [
      "Fail to reject the null hypothesis. The difference between the means of two populations is not statistically significant.\n"
     ]
    }
   ],
   "source": [
    "# Create two samples from two populations\n",
    "sample_1 = np.array([10, 12, 14, 16, 18])\n",
    "sample_2 = np.array([13, 15, 17, 19, 21])\n",
    "\n",
    "# Calculate the means and standard deviations of the two samples\n",
    "mean_1 = np.mean(sample_1)\n",
    "mean_2 = np.mean(sample_2)\n",
    "std_1 = np.std(sample_1, ddof=1)\n",
    "std_2 = np.std(sample_2, ddof=1)\n",
    "\n",
    "# Define the null and alternative hypotheses\n",
    "null_hypothesis = \"The difference between the means of two populations is equal to zero.\"\n",
    "alternative_hypothesis = \"The difference between the means of two populations is not equal to zero.\"\n",
    "\n",
    "# Conduct a two-sample t-test assuming equal variances\n",
    "t, p = stats.ttest_ind(sample_1, sample_2, equal_var=True)\n",
    "\n",
    "# Define the significance level and print the results\n",
    "alpha = 0.05\n",
    "if p < alpha:\n",
    "    print(\"Reject the null hypothesis. The difference between the means of two populations is statistically significant.\")\n",
    "else:\n",
    "    print(\"Fail to reject the null hypothesis. The difference between the means of two populations is not statistically significant.\")"
   ]
  },
  {
   "cell_type": "markdown",
   "id": "0f759dc6-af76-4587-b4c8-3c99995eb3e0",
   "metadata": {},
   "source": [
    "In hypothesis testing, a null hypothesis (H0) is a statement about a population parameter that assumes there is no significant difference between a sample statistic and the population parameter. The alternative hypothesis (Ha) is a statement that contradicts the null hypothesis, suggesting that there is a significant difference between the sample statistic and the population parameter.\n",
    "\n",
    "Here are some examples of null and alternative hypotheses:\n",
    "\n",
    "1. Null hypothesis: The mean salary of male employees is equal to the mean salary of female employees in the same company.\n",
    "        Alternative hypothesis: The mean salary of male employees is greater than the mean salary of female employees in the same company.\n",
    "\n",
    "2. Null hypothesis: The mean test scores of students who attended a test-preparation course are equal to the mean test scores of students who did not attend the course.\n",
    "        Alternative hypothesis: The mean test scores of students who attended a test-preparation course are higher than the mean test scores of students who did not attend the course.\n",
    "\n"
   ]
  },
  {
   "cell_type": "markdown",
   "id": "e1e72630-03b9-457e-bd6c-29f5225638e4",
   "metadata": {},
   "source": [
    "1. State the null and alternative hypotheses: The first step in hypothesis testing is to clearly define the null and alternative hypotheses. The null hypothesis assumes that there is no significant difference between a sample statistic and the population parameter, while the alternative hypothesis suggests that there is a significant difference.\n",
    "\n",
    "2. Define the level of significance: The level of significance is the probability of rejecting the null hypothesis when it is true (also known as a Type I error). Typically, the level of significance is set to 0.05 or 0.01, which means that there is a 5% or 1% chance of rejecting the null hypothesis when it is true, respectively.\n",
    "\n",
    "3. Determine the test statistic: The test statistic is a value calculated from the sample data that is used to test the null hypothesis. The choice of test statistic depends on the type of data being analyzed and the hypothesis being tested.\n",
    "\n",
    "4. Calculate the p-value: The p-value is the probability of observing a test statistic as extreme or more extreme than the one calculated from the sample data, assuming the null hypothesis is true. The smaller the p-value, the stronger the evidence against the null hypothesis.\n",
    "\n",
    "5. Make a decision: Based on the calculated p-value and the level of significance, a decision can be made to either reject the null hypothesis or fail to reject it. If the p-value is less than the level of significance, the null hypothesis is rejected in favor of the alternative hypothesis. If the p-value is greater than the level of significance, the null hypothesis is not rejected.\n",
    "\n",
    "6. Interpret the results: If the null hypothesis is rejected, it means that there is evidence to support the alternative hypothesis. The results should be reported in a clear and concise manner, including the calculated test statistic, p-value, and conclusion.\n",
    "\n",
    "7. Draw conclusions: Finally, conclusions should be drawn based on the results of the hypothesis test, and any further action should be taken as appropriate. If the null hypothesis is rejected, it may be necessary to conduct further studies or take corrective action based on the findings."
   ]
  },
  {
   "cell_type": "markdown",
   "id": "079eab1a-4470-4e56-8aa8-f363d843e9af",
   "metadata": {},
   "source": [
    "1. A p-value is a measure of how likely it is to observe the data you have, or more extreme data, assuming the null hypothesis is true.\n",
    "2. The null hypothesis is the default hypothesis that there is no relationship or difference between variables.\n",
    "3. The p-value is typically compared to a pre-set level of significance (such as 0.05), and if the p-value is less than this level, the result is considered statistically significant, meaning that it is unlikely to have occurred by chance alone and the null hypothesis is rejected.\n",
    "4. If the p-value is greater than the level of significance, the result is not statistically significant, meaning that it could have occurred by chance alone and there is not enough evidence to reject the null hypothesis.\n",
    "5. The p-value can be used to draw conclusions about the hypothesis being tested, inform future research, and guide decision-making based on the results.\n",
    "6. It is important to keep in mind that the p-value does not prove or disprove a hypothesis, but rather provides a measure of the strength of the evidence against the null hypothesis."
   ]
  },
  {
   "cell_type": "code",
   "execution_count": 5,
   "id": "dc9d5544-68b3-42a5-b1de-55e7164f63ae",
   "metadata": {},
   "outputs": [
    {
     "data": {
      "image/png": "[encoded data removed]",
      "text/plain": [
       "<Figure size 640x480 with 1 Axes>"
      ]
     },
     "metadata": {},
     "output_type": "display_data"
    }
   ],
   "source": [
    "import numpy as np\n",
    "import matplotlib.pyplot as plt\n",
    "\n",
    "# Define the degrees of freedom\n",
    "df = 10\n",
    "\n",
    "# Generate the t-values\n",
    "t_values = np.linspace(-5, 5, num=1000)\n",
    "pdf_values = np.zeros_like(t_values)\n",
    "\n",
    "# Calculate the probability density function (PDF) values for each t-value\n",
    "for i in range(len(t_values)):\n",
    "    pdf_values[i] = (1 / (np.sqrt(df * np.pi) * np.power((1 + np.power(t_values[i], 2) / df), (df+1)/2))) * np.power((df / (df + np.power(t_values[i], 2))), 0.5 * (df + 1))\n",
    "\n",
    "# Plot the t-distribution PDF\n",
    "plt.plot(t_values, pdf_values, label='t-distribution (df={})'.format(df))\n",
    "\n",
    "# Add labels and title\n",
    "plt.xlabel('t-values')\n",
    "plt.ylabel('Probability Density')\n",
    "plt.title('Student\\'s t-distribution')\n",
    "\n",
    "# Add legend\n",
    "plt.legend()\n",
    "\n",
    "# Display the plot\n",
    "plt.show()\n"
   ]
  },
  {
   "cell_type": "code",
   "execution_count": 6,
   "id": "d7f03e87-9c85-40a2-9d50-2f241e5c0e06",
   "metadata": {},
   "outputs": [
    {
     "name": "stdout",
     "output_type": "stream",
     "text": [
      "Sample 1 mean: 9.944075400280115\n",
      "Sample 2 mean: 12.178957680565574\n",
      "t-statistic: -8.264581325996982\n",
      "p-value: 1.9953434467780336e-14\n",
      "The results are statistically significant, and we reject the null hypothesis.\n"
     ]
    }
   ],
   "source": [
    "from scipy.stats import ttest_ind\n",
    "\n",
    "#Generate two random samples of equal size\n",
    "sample1 = np.random.normal(10, 2, 100)\n",
    "sample2 = np.random.normal(12, 2, 100)\n",
    "\n",
    "# Calculate the t-test statistic and p-value\n",
    "t_statistic, p_value = ttest_ind(sample1, sample2)\n",
    "\n",
    "# Print the results\n",
    "print(\"Sample 1 mean:\", np.mean(sample1))\n",
    "print(\"Sample 2 mean:\", np.mean(sample2))\n",
    "print(\"t-statistic:\", t_statistic)\n",
    "print(\"p-value:\", p_value)\n",
    "\n",
    "# Check if the results are statistically significant\n",
    "if p_value < 0.05:\n",
    "    print(\"The results are statistically significant, and we reject the null hypothesis.\")\n",
    "else:\n",
    "    print(\"The results are not statistically significant, and we fail to reject the null hypothesis.\")"
   ]
  },
  {
   "cell_type": "markdown",
   "id": "75279963-a8a2-4695-869a-fdba4ac12adf",
   "metadata": {},
   "source": [
    "Student's t-distribution is a probability distribution that arises in statistics when estimating the mean of a normally distributed population in situations where the sample size is small or the population variance is unknown. It is named after William Sealy Gosset, who published under the pseudonym \"Student\" in 1908.\n",
    "\n",
    "The t-distribution is similar in shape to the standard normal distribution but has heavier tails, which means it has more probability in the tails than the normal distribution. This is due to the added uncertainty that comes with estimating the population variance based on a small sample.\n",
    "\n",
    "The t-distribution is commonly used in hypothesis testing, specifically when the sample size is small and the population variance is unknown. In such cases, the t-test is used instead of the z-test, which assumes a normal distribution and known population variance. The t-test is used to determine if there is a significant difference between the means of two groups or if a sample mean is significantly different from a known or hypothesized population mean.\n",
    "\n",
    "In summary, the t-distribution is used when:\n",
    "\n",
    "1. The sample size is small (typically less than 30).\n",
    "2. The population variance is unknown.\n",
    "3. The population is approximately normally distributed or the sample size is large enough to justify the central limit theorem.\n",
    "4. The goal is to test a hypothesis about the population mean."
   ]
  },
  {
   "cell_type": "markdown",
   "id": "85823ab7-28a2-4c48-88fb-04926339dcf9",
   "metadata": {},
   "source": [
    "In statistics, the t-statistic is a measure of how much difference there is between the mean of a sample and the true mean of the population from which the sample was drawn, relative to the variation in the sample. It is used in hypothesis testing to determine whether the difference between two sample means is significant or due to random chance.\n",
    "\n",
    "The formula for the t-statistic is:\n",
    "\n",
    "t = (x̄1 - x̄2) / (s * sqrt(2/n))\n",
    "\n",
    "where:\n",
    "\n",
    "-> x̄1 is the mean of the first sample\n",
    "-> x̄2 is the mean of the second sample\n",
    "-> s is the pooled standard deviation of the two samples\n",
    "-> n is the sample size"
   ]
  },
  {
   "cell_type": "code",
   "execution_count": 7,
   "id": "0ab732c7-e412-4b74-90b5-013c9fa2c93f",
   "metadata": {},
   "outputs": [
    {
     "name": "stdout",
     "output_type": "stream",
     "text": [
      "Sample mean: $500.00\n",
      "Standard deviation: $50.00\n",
      "Sample size: 50\n",
      "Degrees of freedom: 49\n",
      "Critical value (95% confidence interval): 2.0096\n",
      "Standard error: $7.071\n",
      "Margin of error: $14.210\n",
      "95% confidence interval: ($485.790, $514.210)\n"
     ]
    }
   ],
   "source": [
    "import math\n",
    "\n",
    "# Sample data\n",
    "sample_mean = 500\n",
    "sample_std_dev = 50\n",
    "sample_size = 50\n",
    "\n",
    "# Calculate critical value for 95% confidence interval\n",
    "degrees_of_freedom = sample_size - 1\n",
    "t_value = 2.0096  # From t-table or calculator\n",
    "\n",
    "# Calculate standard error and margin of error\n",
    "standard_error = sample_std_dev / math.sqrt(sample_size)\n",
    "margin_of_error = t_value * standard_error\n",
    "\n",
    "# Calculate confidence interval\n",
    "lower_bound = sample_mean - margin_of_error\n",
    "upper_bound = sample_mean + margin_of_error\n",
    "\n",
    "# Output results\n",
    "print(\"Sample mean: ${:.2f}\".format(sample_mean))\n",
    "print(\"Standard deviation: ${:.2f}\".format(sample_std_dev))\n",
    "print(\"Sample size: {}\".format(sample_size))\n",
    "print(\"Degrees of freedom: {}\".format(degrees_of_freedom))\n",
    "print(\"Critical value (95% confidence interval): {:.4f}\".format(t_value))\n",
    "print(\"Standard error: ${:.3f}\".format(standard_error))\n",
    "print(\"Margin of error: ${:.3f}\".format(margin_of_error))\n",
    "print(\"95% confidence interval: (${:.3f}, ${:.3f})\".format(lower_bound, upper_bound))\n"
   ]
  },
  {
   "cell_type": "code",
   "execution_count": 1,
   "id": "6f80b253-f8f2-4290-9173-be482e28fe9e",
   "metadata": {},
   "outputs": [
    {
     "name": "stdout",
     "output_type": "stream",
     "text": [
      "t-statistic: -6.666666666666667\n",
      "p-value: 7.506144504985108e-10\n",
      "Reject the null hypothesis\n"
     ]
    }
   ],
   "source": [
    "import scipy.stats as stats\n",
    "\n",
    "# Define the sample statistics and hypothesized mean\n",
    "sample_mean = 8\n",
    "hypothesized_mean = 10\n",
    "sample_std = 3\n",
    "sample_size = 100\n",
    "\n",
    "# Calculate the t-statistic and p-value\n",
    "t_statistic = (sample_mean - hypothesized_mean) / (sample_std / (sample_size ** 0.5))\n",
    "p_value = stats.t.cdf(t_statistic, df=sample_size-1)\n",
    "\n",
    "# Print the results\n",
    "print(\"t-statistic:\", t_statistic)\n",
    "print(\"p-value:\", p_value)\n",
    "\n",
    "# Test for significance level of 0.05\n",
    "if p_value < 0.05:\n",
    "    print(\"Reject the null hypothesis\")\n",
    "else:\n",
    "    print(\"Fail to reject the null hypothesis\")\n"
   ]
  },
  {
   "cell_type": "code",
   "execution_count": 2,
   "id": "1051c70a-822a-41ec-a016-80095b20b3fe",
   "metadata": {},
   "outputs": [
    {
     "name": "stdout",
     "output_type": "stream",
     "text": [
      "t-statistic: -2.0000000000000018\n",
      "p-value: 0.02846992496829572\n",
      "Fail to reject the null hypothesis\n"
     ]
    }
   ],
   "source": [
    "sample_mean = 4.8\n",
    "hypothesized_mean = 5\n",
    "sample_std = 0.5\n",
    "sample_size = 25\n",
    "\n",
    "# Calculate the t-statistic and p-value\n",
    "t_statistic = (sample_mean - hypothesized_mean) / (sample_std / (sample_size ** 0.5))\n",
    "p_value = stats.t.cdf(t_statistic, df=sample_size-1)\n",
    "\n",
    "# Print the results\n",
    "print(\"t-statistic:\", t_statistic)\n",
    "print(\"p-value:\", p_value)\n",
    "\n",
    "# Test for significance level of 0.01\n",
    "if p_value < 0.01:\n",
    "    print(\"Reject the null hypothesis\")\n",
    "else:\n",
    "    print(\"Fail to reject the null hypothesis\")\n",
    "    "
   ]
  },
  {
   "cell_type": "code",
   "execution_count": 3,
   "id": "25309c0d-66f7-4cca-a54a-56325ba44c96",
   "metadata": {},
   "outputs": [
    {
     "name": "stdout",
     "output_type": "stream",
     "text": [
      "t-statistic: 2.2511258444537408\n",
      "p-value: 0.9861932598161512\n",
      "Fail to reject the null hypothesis\n"
     ]
    }
   ],
   "source": [
    "n1 = 30\n",
    "x1 = 80\n",
    "s1 = 10\n",
    "\n",
    "n2 = 40\n",
    "x2 = 75\n",
    "s2 = 8\n",
    "\n",
    "hypothesized_mean_diff = 0\n",
    "\n",
    "# Calculate the t-statistic and p-value\n",
    "std_error = ((s1 ** 2 / n1) + (s2 ** 2 / n2)) ** 0.5\n",
    "t_statistic = (x1 - x2 - hypothesized_mean_diff) / std_error\n",
    "p_value = stats.t.cdf(t_statistic, df=n1 + n2 - 2)\n",
    "\n",
    "\n",
    "# Print the results\n",
    "print(\"t-statistic:\", t_statistic)\n",
    "print(\"p-value:\", p_value)\n",
    "\n",
    "# Test for significance level of 0.01\n",
    "if p_value < 0.01:\n",
    "    print(\"Reject the null hypothesis\")\n",
    "else:\n",
    "    print(\"Fail to reject the null hypothesis\")\n",
    "    "
   ]
  },
  {
   "cell_type": "code",
   "execution_count": null,
   "id": "36a99963-6ce3-4715-b932-256a53892ed7",
   "metadata": {},
   "outputs": [],
   "source": []
  }
 ],
 "metadata": {
  "kernelspec": {
   "display_name": "Python 3 (ipykernel)",
   "language": "python",
   "name": "python3"
  },
  "language_info": {
   "codemirror_mode": {
    "name": "ipython",
    "version": 3
   },
   "file_extension": ".py",
   "mimetype": "text/x-python",
   "name": "python",
   "nbconvert_exporter": "python",
   "pygments_lexer": "ipython3",
   "version": "3.10.8"
  }
 },
 "nbformat": 4,
 "nbformat_minor": 5
}
