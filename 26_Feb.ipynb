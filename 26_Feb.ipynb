{
 "cells": [
  {
   "cell_type": "code",
   "execution_count": 34,
   "id": "16bf1f62-b4ed-4b69-8d01-43f594d41803",
   "metadata": {},
   "outputs": [],
   "source": [
    "import numpy as np"
   ]
  },
  {
   "cell_type": "code",
   "execution_count": 35,
   "id": "e1737882-8ad2-4ee5-b750-2d6a9efa8fb5",
   "metadata": {},
   "outputs": [],
   "source": [
    "list_ = [\"1\",\"2\",\"3\",\"4\",\"5\"]"
   ]
  },
  {
   "cell_type": "code",
   "execution_count": 36,
   "id": "6fdec9c1-cb70-440b-94fd-aaaa4f2d8f71",
   "metadata": {},
   "outputs": [],
   "source": [
    "array_list=np.array(object =list_)"
   ]
  },
  {
   "cell_type": "code",
   "execution_count": 37,
   "id": "a976943a-2e5c-4cbc-a616-21ae910f4592",
   "metadata": {},
   "outputs": [
    {
     "data": {
      "text/plain": [
       "numpy.ndarray"
      ]
     },
     "execution_count": 37,
     "metadata": {},
     "output_type": "execute_result"
    }
   ],
   "source": [
    "type(array_list)"
   ]
  },
  {
   "cell_type": "code",
   "execution_count": 38,
   "id": "82d626d4-0182-4c2d-b1d4-91f95a05f96c",
   "metadata": {},
   "outputs": [
    {
     "data": {
      "text/plain": [
       "list"
      ]
     },
     "execution_count": 38,
     "metadata": {},
     "output_type": "execute_result"
    }
   ],
   "source": [
    "type(list_)"
   ]
  },
  {
   "cell_type": "code",
   "execution_count": 39,
   "id": "15f4b5f2-58f4-4b4f-9759-4727977ca589",
   "metadata": {},
   "outputs": [
    {
     "name": "stdout",
     "output_type": "stream",
     "text": [
      "The class of  1 is  <class 'str'>\n",
      "The class of  2 is  <class 'str'>\n",
      "The class of  3 is  <class 'str'>\n",
      "The class of  4 is  <class 'str'>\n",
      "The class of  5 is  <class 'str'>\n"
     ]
    }
   ],
   "source": [
    "for element in list_:\n",
    "    print(\"The class of \" , element , \"is \",type(element))"
   ]
  },
  {
   "cell_type": "code",
   "execution_count": 40,
   "id": "360334b0-131b-47c6-8e38-70b78bc68275",
   "metadata": {},
   "outputs": [
    {
     "name": "stdout",
     "output_type": "stream",
     "text": [
      "The class of  1 is  <class 'numpy.str_'>\n",
      "The class of  2 is  <class 'numpy.str_'>\n",
      "The class of  3 is  <class 'numpy.str_'>\n",
      "The class of  4 is  <class 'numpy.str_'>\n",
      "The class of  5 is  <class 'numpy.str_'>\n"
     ]
    }
   ],
   "source": [
    "for element in array_list:\n",
    "    print(\"The class of \" , element , \"is \",type(element))"
   ]
  },
  {
   "cell_type": "code",
   "execution_count": 41,
   "id": "fb778dca-cbbb-4bff-9703-34fad603275f",
   "metadata": {},
   "outputs": [],
   "source": [
    "array_list = np.array(object = list_, dtype = int)"
   ]
  },
  {
   "cell_type": "code",
   "execution_count": 42,
   "id": "d708048a-6520-4cbb-bcb2-0c8c6e35bf15",
   "metadata": {},
   "outputs": [
    {
     "name": "stdout",
     "output_type": "stream",
     "text": [
      "The class of  1 is  <class 'str'>\n",
      "The class of  2 is  <class 'str'>\n",
      "The class of  3 is  <class 'str'>\n",
      "The class of  4 is  <class 'str'>\n",
      "The class of  5 is  <class 'str'>\n"
     ]
    }
   ],
   "source": [
    "for element in list_:\n",
    "    print(\"The class of \" , element , \"is \",type(element))"
   ]
  },
  {
   "cell_type": "code",
   "execution_count": 43,
   "id": "461007d4-c640-425b-a5a0-55319dc3b3cf",
   "metadata": {},
   "outputs": [
    {
     "name": "stdout",
     "output_type": "stream",
     "text": [
      "The class of  1 is  <class 'numpy.int64'>\n",
      "The class of  2 is  <class 'numpy.int64'>\n",
      "The class of  3 is  <class 'numpy.int64'>\n",
      "The class of  4 is  <class 'numpy.int64'>\n",
      "The class of  5 is  <class 'numpy.int64'>\n"
     ]
    }
   ],
   "source": [
    "for element in array_list:\n",
    "    print(\"The class of \" , element , \"is \",type(element))"
   ]
  },
  {
   "cell_type": "code",
   "execution_count": 44,
   "id": "1907d9ab-d21c-4c30-a77e-647d0b09ad34",
   "metadata": {},
   "outputs": [],
   "source": [
    "num_list= [[1,2,3],[4,5,6]]"
   ]
  },
  {
   "cell_type": "code",
   "execution_count": 45,
   "id": "68af9d0e-7a96-4382-bfc8-a340f6a73c97",
   "metadata": {},
   "outputs": [],
   "source": [
    "num_array =np.array(object =num_list)"
   ]
  },
  {
   "cell_type": "code",
   "execution_count": 46,
   "id": "2b5c2bd5-b3df-40b4-b630-306e91131006",
   "metadata": {},
   "outputs": [
    {
     "data": {
      "text/plain": [
       "(2, 3)"
      ]
     },
     "execution_count": 46,
     "metadata": {},
     "output_type": "execute_result"
    }
   ],
   "source": [
    "num_array.shape"
   ]
  },
  {
   "cell_type": "code",
   "execution_count": 47,
   "id": "fed84935-5242-4822-85b3-7b67a33759c1",
   "metadata": {},
   "outputs": [
    {
     "data": {
      "text/plain": [
       "6"
      ]
     },
     "execution_count": 47,
     "metadata": {},
     "output_type": "execute_result"
    }
   ],
   "source": [
    "num_array.size"
   ]
  },
  {
   "cell_type": "code",
   "execution_count": 49,
   "id": "caa4b40a-27bf-4818-8cfe-ed6ce1642045",
   "metadata": {},
   "outputs": [],
   "source": [
    "import numpy.matlib as nm"
   ]
  },
  {
   "cell_type": "code",
   "execution_count": 51,
   "id": "1ab33a7d-7d82-4dc0-952e-b7eb07eee454",
   "metadata": {},
   "outputs": [],
   "source": [
    "zero_matrix = nm.zeros((3,3))"
   ]
  },
  {
   "cell_type": "code",
   "execution_count": 52,
   "id": "5f9b2efc-bf26-4466-8856-be8fc8af3710",
   "metadata": {},
   "outputs": [
    {
     "data": {
      "text/plain": [
       "matrix([[0., 0., 0.],\n",
       "        [0., 0., 0.],\n",
       "        [0., 0., 0.]])"
      ]
     },
     "execution_count": 52,
     "metadata": {},
     "output_type": "execute_result"
    }
   ],
   "source": [
    "zero_matrix"
   ]
  },
  {
   "cell_type": "code",
   "execution_count": 53,
   "id": "3f95db61-7382-47c6-91f2-426f17727d99",
   "metadata": {},
   "outputs": [
    {
     "data": {
      "text/plain": [
       "(3, 3)"
      ]
     },
     "execution_count": 53,
     "metadata": {},
     "output_type": "execute_result"
    }
   ],
   "source": [
    "zero_matrix.shape"
   ]
  },
  {
   "cell_type": "code",
   "execution_count": 54,
   "id": "139085cd-d78c-4a5d-a1be-25a37aa1b1ac",
   "metadata": {},
   "outputs": [
    {
     "data": {
      "text/plain": [
       "9"
      ]
     },
     "execution_count": 54,
     "metadata": {},
     "output_type": "execute_result"
    }
   ],
   "source": [
    "zero_matrix.size"
   ]
  },
  {
   "cell_type": "code",
   "execution_count": null,
   "id": "bc83cbf9-81c1-4117-841c-5ce29d369883",
   "metadata": {},
   "outputs": [],
   "source": [
    "nm."
   ]
  }
 ],
 "metadata": {
  "kernelspec": {
   "display_name": "Python 3 (ipykernel)",
   "language": "python",
   "name": "python3"
  },
  "language_info": {
   "codemirror_mode": {
    "name": "ipython",
    "version": 3
   },
   "file_extension": ".py",
   "mimetype": "text/x-python",
   "name": "python",
   "nbconvert_exporter": "python",
   "pygments_lexer": "ipython3",
   "version": "3.10.8"
  }
 },
 "nbformat": 4,
 "nbformat_minor": 5
}
