{
  "nbformat": 4,
  "nbformat_minor": 0,
  "metadata": {
    "colab": {
      "provenance": []
    },
    "kernelspec": {
      "name": "python3",
      "display_name": "Python 3"
    },
    "language_info": {
      "name": "python"
    }
  },
  "cells": [
    {
      "cell_type": "code",
      "execution_count": 1,
      "metadata": {
        "colab": {
          "base_uri": "https://localhost:8080/"
        },
        "id": "IG1PSrj3q0bR",
        "outputId": "f879aa57-2768-4ca3-d9ed-f995862b4bfa"
      },
      "outputs": [
        {
          "name": "stdout",
          "output_type": "stream",
          "text": [
            "1\n",
            "2\n",
            "3\n",
            "4\n",
            "5\n",
            "6\n",
            "7\n",
            "8\n",
            "9\n",
            "10\n",
            "Please enter your name: Sudip\n"
          ]
        }
      ],
      "source": [
        "\"\"\"\n",
        "For Loop : use when we already know how many times iteration is need to be perform \n",
        "While Loop : use when when don't know how many times iteration is going to perform on\n",
        "\"\"\"\n",
        "# for loop \n",
        "for i in range(1,11):\n",
        "        print(i)\n",
        "\n",
        "#while loop :\n",
        "name = \"\"\n",
        "while not name.strip():\n",
        "    name = input(\"Please enter your name: \")\n"
      ]
    },
    {
      "cell_type": "code",
      "source": [
        "#Write a python program to print the sum and product of the first 10 natural numbers using for loop. \n",
        "\n",
        "addtion = 0\n",
        "product = 1\n",
        "for i in range(1,11):\n",
        "    addtion+=i\n",
        "    product*=i\n",
        "    \n",
        "print(\"Sum of first 10 natural no :\",addtion)\n",
        "print(\"Product of first 10 natural no :\",product)"
      ],
      "metadata": {
        "colab": {
          "base_uri": "https://localhost:8080/"
        },
        "id": "EOfgyPHFt6iF",
        "outputId": "81c86611-ae95-44d1-88b5-187c697e5d7e"
      },
      "execution_count": 4,
      "outputs": [
        {
          "output_type": "stream",
          "name": "stdout",
          "text": [
            "Sum of first 10 natural no : 55\n",
            "Product of first 10 natural no : 3628800\n"
          ]
        }
      ]
    },
    {
      "cell_type": "code",
      "source": [
        "#Write a python program to print the sum and product of the first 10 natural numbers using while loop. \n",
        "\n",
        "addtion = 0\n",
        "product = 1\n",
        "i = 1\n",
        "while i <=10:\n",
        "    addtion+=i\n",
        "    product*=i\n",
        "    i +=1\n",
        "    \n",
        "print(\"Sum of first 10 natural no :\",addtion)\n",
        "print(\"Product of first 10 natural no :\",product)\n"
      ],
      "metadata": {
        "colab": {
          "base_uri": "https://localhost:8080/"
        },
        "id": "k7Pq_QHauAtx",
        "outputId": "6e431f9e-1d0e-40a9-9931-e9a7ef888b5f"
      },
      "execution_count": 3,
      "outputs": [
        {
          "output_type": "stream",
          "name": "stdout",
          "text": [
            "Sum of first 10 natural no : 55\n",
            "Product of first 10 natural no : 3628800\n"
          ]
        }
      ]
    },
    {
      "cell_type": "code",
      "source": [
        "#program to compute the electricity bill for a household\n",
        "\n",
        "units = float(input(\"Enter number of units consumed: \"))\n",
        "\n",
        "if units <= 100:\n",
        "    bill = units * 4.5\n",
        "elif units <= 200:\n",
        "    bill = 100 * 4.5 + (units - 100) * 6\n",
        "elif units <= 300:\n",
        "    bill = 100 * 4.5 + 100 * 6 + (units - 200) * 10\n",
        "else:\n",
        "    bill = 100 * 4.5 + 100 * 6 + 100 * 10 + (units - 300) * 20\n",
        "\n",
        "print(\"Electricity bill: Rs.\", bill)\n",
        "\n"
      ],
      "metadata": {
        "colab": {
          "base_uri": "https://localhost:8080/"
        },
        "id": "6hjWLgf4uMCl",
        "outputId": "60d45bf1-de1b-474f-d7d1-eb9b842a7454"
      },
      "execution_count": 7,
      "outputs": [
        {
          "output_type": "stream",
          "name": "stdout",
          "text": [
            "Enter number of units consumed: 310\n",
            "Electricity bill: Rs. 2250.0\n"
          ]
        }
      ]
    },
    {
      "cell_type": "code",
      "source": [
        "\"\"\"Create a list of numbers from 1 to 100.\n",
        "Use for loop and while loop to calculate the cube of each  number and if the cube of that number is divisible by 4 or 5 then append that number in a list and print  that list\"\"\"\n",
        "list1 = []\n",
        "\n",
        "for i in range(1,101):\n",
        "  cube=i**3\n",
        "  if cube%4==0 or cube%5==0:\n",
        "   list1.append(cube)\n",
        "\n",
        "print(list1, sep = \", \")"
      ],
      "metadata": {
        "colab": {
          "base_uri": "https://localhost:8080/"
        },
        "id": "RaLj6ubnvRuo",
        "outputId": "95bfe24f-1921-436b-a80b-0a5a94de1fdf"
      },
      "execution_count": 15,
      "outputs": [
        {
          "output_type": "stream",
          "name": "stdout",
          "text": [
            "[8, 64, 125, 216, 512, 1000, 1728, 2744, 3375, 4096, 5832, 8000, 10648, 13824, 15625, 17576, 21952, 27000, 32768, 39304, 42875, 46656, 54872, 64000, 74088, 85184, 91125, 97336, 110592, 125000, 140608, 157464, 166375, 175616, 195112, 216000, 238328, 262144, 274625, 287496, 314432, 343000, 373248, 405224, 421875, 438976, 474552, 512000, 551368, 592704, 614125, 636056, 681472, 729000, 778688, 830584, 857375, 884736, 941192, 1000000]\n"
          ]
        }
      ]
    },
    {
      "cell_type": "code",
      "source": [
        "list2 = []\n",
        "i=0\n",
        "\n",
        "while i <=100:\n",
        "  cube=i**3\n",
        "  if cube%4==0 or cube%5==0:\n",
        "   list2.append(cube)\n",
        "  i+=1\n",
        "\n",
        "print(list2, sep = \", \")"
      ],
      "metadata": {
        "colab": {
          "base_uri": "https://localhost:8080/"
        },
        "id": "OnkjTQLdxQXx",
        "outputId": "06677f8a-cabc-4c8f-fac0-03f1e9ab9ed0"
      },
      "execution_count": 16,
      "outputs": [
        {
          "output_type": "stream",
          "name": "stdout",
          "text": [
            "[0, 8, 64, 125, 216, 512, 1000, 1728, 2744, 3375, 4096, 5832, 8000, 10648, 13824, 15625, 17576, 21952, 27000, 32768, 39304, 42875, 46656, 54872, 64000, 74088, 85184, 91125, 97336, 110592, 125000, 140608, 157464, 166375, 175616, 195112, 216000, 238328, 262144, 274625, 287496, 314432, 343000, 373248, 405224, 421875, 438976, 474552, 512000, 551368, 592704, 614125, 636056, 681472, 729000, 778688, 830584, 857375, 884736, 941192, 1000000]\n"
          ]
        }
      ]
    },
    {
      "cell_type": "code",
      "source": [
        "# program to filter count vowels\n",
        "string = \"I want to become a data scientist\"\n",
        "vowels = \"aeiouAEIOU\"\n",
        "count = 0\n",
        "\n",
        "for char in string:\n",
        "    if char in vowels:\n",
        "        count += 1\n",
        "\n",
        "print(\"Number of vowels in the string:\", count)\n"
      ],
      "metadata": {
        "colab": {
          "base_uri": "https://localhost:8080/"
        },
        "id": "-mK6OUxbx6zQ",
        "outputId": "0e3ec367-2a17-4230-ddae-38fa3a58e188"
      },
      "execution_count": 17,
      "outputs": [
        {
          "output_type": "stream",
          "name": "stdout",
          "text": [
            "Number of vowels in the string: 12\n"
          ]
        }
      ]
    },
    {
      "cell_type": "code",
      "source": [],
      "metadata": {
        "id": "vpvYqULQ23Y0"
      },
      "execution_count": null,
      "outputs": []
    }
  ]
}