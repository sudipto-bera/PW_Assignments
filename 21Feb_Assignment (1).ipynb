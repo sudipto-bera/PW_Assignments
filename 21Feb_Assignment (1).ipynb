{
 "cells": [
  {
   "cell_type": "markdown",
   "id": "65a4d648-4962-4d76-b92b-14c84b03e04d",
   "metadata": {},
   "source": [
    "Web scraping is the process of extracting data from websites automatically using software or a script. It involves fetching the HTML code of a web page and parsing it to extract the desired information. The extracted data can be saved to a local file or database for further processing or analysis.\n",
    "\n",
    "Web scraping is used for various purposes, including:\n",
    "\n",
    "->Data extraction: Web scraping can be used to extract large amounts of data from websites, such as product details, customer reviews, and pricing information. This data can be used by businesses for competitive analysis, market research, or pricing optimization.\n",
    "\n",
    "->Content aggregation: Web scraping can be used to collect and aggregate content from different sources, such as news articles, blog posts, and social media updates. This can be useful for creating a content feed, analyzing public opinion, or monitoring competitors' activities.\n",
    "\n",
    "->Research: Web scraping can be used in academic research to collect data for analysis or to monitor changes in web content over time. For example, researchers can use web scraping to analyze political sentiment on social media or to track the evolution of language use in online forums.\n",
    "\n",
    "Three areas where web scraping is commonly used are:\n",
    "\n",
    "->E-commerce: Web scraping is used in the e-commerce industry to gather data on competitors' prices, product details, and customer reviews. This information is used by businesses to optimize their pricing strategies, improve product descriptions, and identify new product opportunities.\n",
    "\n",
    "->Finance: Web scraping is used in finance to gather data on stock prices, economic indicators, and company financials. This data is used by investors to make informed investment decisions, by analysts to create financial models, and by traders to monitor market trends.\n",
    "\n",
    "->Social media: Web scraping is used to monitor social media platforms for mentions of brands, products, or topics. This information is used by businesses to track their online reputation, identify influencers, and analyze public opinion."
   ]
  },
  {
   "cell_type": "markdown",
   "id": "4aff13b0-2d20-4dc2-a52e-01d2ce877d27",
   "metadata": {},
   "source": [
    "There are several methods of Web Scraping :\n",
    "\n",
    "-> Manual Scraping : this simply means manually copying and pasting data from websites into a local file or spreadsheet. It is time consuming process amd is typically used for small amounts of data \n",
    "\n",
    "-> Automated Scriping : This involves using software or scripts to automate the data extracting process\n",
    "\n",
    "->Web Scraping : There are several web scraping tools available that can simplify data extraction process. These tools typically allow users to specify the data they want to extract and provide a grapical interface for managing and storing the extracted data. Example : BeautifulSoup, Scrapy, and Selinium"
   ]
  },
  {
   "cell_type": "markdown",
   "id": "e87b750e-bf74-4d73-87ca-8bd2c7d9ad91",
   "metadata": {},
   "source": [
    "Beautiful Soap is a python liabrary used for Web Scraping purpose purpose, It is a powerful tool that makes it easy to parse and extract data from HTML and XML documents . \n",
    "Beautiful Soap is designed to work with a wide range of HTML and XML documents and perticularly useful when working with documents that are poorly structured or contain inconsistent formatting.\n",
    "\n",
    "Beautiful Soup can be use fpr several reason : \n",
    "-> Data Extarction \n",
    "-> Parsing HTML \n",
    "-> Integration with with other python liabries such as Requests and Pandas"
   ]
  },
  {
   "cell_type": "markdown",
   "id": "4a85f70f-9dfc-4b85-a053-d157e552fe7a",
   "metadata": {},
   "source": [
    "Flask is a lightweight web framework in Python that is commonly used for building web applications and APIs . Flask is popular choice for web scraping projects for several reason :\n",
    "\n",
    "-> easy to setup \n",
    "-> provide routing \n",
    "-> integration with other liabries "
   ]
  },
  {
   "cell_type": "raw",
   "id": "c4cf8cab-65df-4717-a838-451512f315a0",
   "metadata": {},
   "source": [
    "Two services which are use in this project are : \n",
    "-> CodePipeline\n",
    "-> Elastic Beanstack\n",
    "\n",
    "AWS CodePipeline is a fully managed continuous delivery service that automates the process of building, testing, and deploying code changes. It provides a simple and flexible way to create and manage pipelines that can integrate with a variety of AWS services and third-party tools. CodePipeline uses a visual workflow to orchestrate the build, test, and deployment stages, making it easy to set up and manage complex release processes.\n",
    "\n",
    "AWS Elastic Beanstalk is a fully managed service for deploying and managing web applications. It provides a platform for developers to quickly deploy and manage applications without having to worry about the underlying infrastructure. Elastic Beanstalk automatically handles capacity provisioning, load balancing, scaling, and application health monitoring, allowing developers to focus on writing code."
   ]
  },
  {
   "cell_type": "code",
   "execution_count": null,
   "id": "4a3d13e0-318f-4686-ab10-b97c83ee101c",
   "metadata": {},
   "outputs": [],
   "source": []
  }
 ],
 "metadata": {
  "kernelspec": {
   "display_name": "Python 3 (ipykernel)",
   "language": "python",
   "name": "python3"
  },
  "language_info": {
   "codemirror_mode": {
    "name": "ipython",
    "version": 3
   },
   "file_extension": ".py",
   "mimetype": "text/x-python",
   "name": "python",
   "nbconvert_exporter": "python",
   "pygments_lexer": "ipython3",
   "version": "3.10.8"
  }
 },
 "nbformat": 4,
 "nbformat_minor": 5
}
