{
 "cells": [
  {
   "cell_type": "code",
   "execution_count": 12,
   "id": "fcb7b25a-9be1-4991-910f-333d640d59be",
   "metadata": {},
   "outputs": [],
   "source": [
    "class Vehicle:\n",
    "    \n",
    "    def __init__(self,name_of_vehicle,max_speed,average_of_vehicle):\n",
    "        self.name_of_vehicle=name_of_vehicle\n",
    "        self.max_speed=max_speed\n",
    "        self.average_of_vehicle=average_of_vehicle\n",
    "        \n",
    "    def vehicle_info(self):\n",
    "        return self.name_of_vehicle \n",
    "        "
   ]
  },
  {
   "cell_type": "code",
   "execution_count": 13,
   "id": "6cb433d8-a998-4c81-bd46-f5405719f53e",
   "metadata": {},
   "outputs": [],
   "source": [
    "class Car(Vehicle):\n",
    "    \n",
    "    def seating_capacity(self,capacity):\n",
    "        self.capacity= capacity\n",
    "        \n",
    "    def seating_capacity_info(self):\n",
    "        return self.capacity"
   ]
  },
  {
   "cell_type": "code",
   "execution_count": 14,
   "id": "0f8833e0-3914-418e-b8dd-34d99a5e9e4f",
   "metadata": {},
   "outputs": [],
   "source": [
    "Toyota = Car(\"Toyota\",200,20)"
   ]
  },
  {
   "cell_type": "code",
   "execution_count": 15,
   "id": "8d4b81d4-1621-43e2-9f2b-cba3dd5cd903",
   "metadata": {},
   "outputs": [],
   "source": [
    "Toyota.seating_capacity(6)"
   ]
  },
  {
   "cell_type": "code",
   "execution_count": 16,
   "id": "f6649881-37b9-4e61-9842-fb45da0fc479",
   "metadata": {},
   "outputs": [
    {
     "name": "stdout",
     "output_type": "stream",
     "text": [
      "Toyota has seating capacity of  6\n"
     ]
    }
   ],
   "source": [
    "print(Toyota.vehicle_info() ,\"has seating capacity of \" ,Toyota.seating_capacity_info())"
   ]
  },
  {
   "cell_type": "code",
   "execution_count": 19,
   "id": "0f6c396f-42e7-418d-9ab0-fa5602aba009",
   "metadata": {},
   "outputs": [],
   "source": [
    "\"\"\"\n",
    "Multiple Inheritance refers to driving a class from multiple classes\n",
    "\"\"\"\n",
    "class class1:\n",
    "    \n",
    "    def test_class1(self):\n",
    "        return \"This is class 1\"\n",
    "    \n",
    "class class2:\n",
    "    \n",
    "    def test_class2(self):\n",
    "        return \"This is class 1\"\n",
    "\n",
    "class class3(class1,class2):\n",
    "    pass\n"
   ]
  },
  {
   "cell_type": "code",
   "execution_count": 20,
   "id": "62a94df0-e75b-41f4-8727-9bb4276febce",
   "metadata": {},
   "outputs": [],
   "source": [
    "obj_class3 = class3()"
   ]
  },
  {
   "cell_type": "code",
   "execution_count": 21,
   "id": "754ddd39-8bb6-4559-b06a-49b6cd05dfef",
   "metadata": {},
   "outputs": [
    {
     "data": {
      "text/plain": [
       "'This is class 1'"
      ]
     },
     "execution_count": 21,
     "metadata": {},
     "output_type": "execute_result"
    }
   ],
   "source": [
    "obj_class3.test_class1()"
   ]
  },
  {
   "cell_type": "code",
   "execution_count": 22,
   "id": "513303a6-d167-4dfe-82c5-2c7786b1eb65",
   "metadata": {},
   "outputs": [
    {
     "data": {
      "text/plain": [
       "'This is class 1'"
      ]
     },
     "execution_count": 22,
     "metadata": {},
     "output_type": "execute_result"
    }
   ],
   "source": [
    "obj_class3.test_class2()"
   ]
  },
  {
   "cell_type": "code",
   "execution_count": 23,
   "id": "2d2f6188-404f-448e-afbe-fbd5ea1ec65b",
   "metadata": {},
   "outputs": [],
   "source": [
    "\"\"\"\n",
    "The getter and setter are use to acess the values of private class \n",
    "\n",
    "-> get_ : this prefix is use to return value of current variable\n",
    "-> set_ : this prefix is use to set new value of the varible\n",
    "\"\"\"\n",
    "\n",
    "class BankAccount:\n",
    "    def __init__(self, balance):\n",
    "        self.__balance = balance\n",
    "\n",
    "    def deposit(self, amount):\n",
    "        self.__balance += amount\n",
    "\n",
    "    def withdraw(self, amount):\n",
    "        if self.__balance >= amount:\n",
    "            self.__balance -= amount\n",
    "        else:\n",
    "            print(\"Insufficient funds\")\n",
    "\n",
    "    def get_balance(self):\n",
    "        return self.__balance\n"
   ]
  },
  {
   "cell_type": "code",
   "execution_count": 24,
   "id": "46941cbf-e24f-480d-8780-7a12bb5d20af",
   "metadata": {},
   "outputs": [],
   "source": [
    "Sudip = BankAccount(2000)"
   ]
  },
  {
   "cell_type": "code",
   "execution_count": 25,
   "id": "f83139ec-90cc-41ce-b167-2afe2612dfb6",
   "metadata": {},
   "outputs": [
    {
     "data": {
      "text/plain": [
       "2000"
      ]
     },
     "execution_count": 25,
     "metadata": {},
     "output_type": "execute_result"
    }
   ],
   "source": [
    "Sudip.get_balance()"
   ]
  },
  {
   "cell_type": "code",
   "execution_count": 26,
   "id": "1900b8d1-d1bb-4ec5-9ced-2940ffc22e53",
   "metadata": {},
   "outputs": [],
   "source": [
    "Sudip.deposit(1000)"
   ]
  },
  {
   "cell_type": "code",
   "execution_count": 27,
   "id": "aab0f77c-cafb-4d42-9b89-c582ccb2f1a0",
   "metadata": {},
   "outputs": [
    {
     "name": "stdout",
     "output_type": "stream",
     "text": [
      "Insufficient funds\n"
     ]
    }
   ],
   "source": [
    "Sudip.withdraw(5000)"
   ]
  },
  {
   "cell_type": "code",
   "execution_count": 28,
   "id": "ebe5e917-573e-4c1a-80cc-4f6bad95440a",
   "metadata": {},
   "outputs": [],
   "source": [
    "Sudip.withdraw(1000)"
   ]
  },
  {
   "cell_type": "code",
   "execution_count": 29,
   "id": "12b306ed-4bd3-4645-bc9b-a0a96594b7c6",
   "metadata": {},
   "outputs": [
    {
     "data": {
      "text/plain": [
       "2000"
      ]
     },
     "execution_count": 29,
     "metadata": {},
     "output_type": "execute_result"
    }
   ],
   "source": [
    "Sudip.get_balance()"
   ]
  },
  {
   "cell_type": "code",
   "execution_count": 36,
   "id": "52447d18-6b3e-45c1-88d3-a915599ed611",
   "metadata": {},
   "outputs": [],
   "source": [
    "\"\"\"\n",
    "Method overriding is process of providing a new implementation for a method that is already defined thin parent class \n",
    "\n",
    "When a method is overridden in child class , the child class provides its own implementation of the method ,which overrides the i\n",
    "implementation in the parent class \n",
    "\"\"\"\n",
    "class Animal:\n",
    "    \n",
    "    def make_sound(self):\n",
    "        return \"The animal makes sound\"\n",
    "\n",
    "class Cat(Animal):\n",
    "    \n",
    "    def make_sound(self):\n",
    "        return \"The cat meows\"\n",
    "    \n",
    "class Dog(Animal):\n",
    "    \n",
    "    def make_sound(self):\n",
    "        return \"The dog barks\"\n",
    "    "
   ]
  },
  {
   "cell_type": "code",
   "execution_count": 37,
   "id": "60f85134-e769-406e-b99b-6a8018e58132",
   "metadata": {},
   "outputs": [],
   "source": [
    "Animal = Animal()"
   ]
  },
  {
   "cell_type": "code",
   "execution_count": 38,
   "id": "967e23b5-15d7-4453-8ad4-11cddb3eb477",
   "metadata": {},
   "outputs": [
    {
     "data": {
      "text/plain": [
       "'The animal makes sound'"
      ]
     },
     "execution_count": 38,
     "metadata": {},
     "output_type": "execute_result"
    }
   ],
   "source": [
    "Animal.make_sound()"
   ]
  },
  {
   "cell_type": "code",
   "execution_count": 39,
   "id": "899995dd-2f64-4de4-b4ea-97b86c27ea1a",
   "metadata": {},
   "outputs": [],
   "source": [
    "Cat=Cat()"
   ]
  },
  {
   "cell_type": "code",
   "execution_count": 40,
   "id": "b9dd4f9f-9f8a-4baf-809c-aa220122d48e",
   "metadata": {},
   "outputs": [
    {
     "data": {
      "text/plain": [
       "'The cat meows'"
      ]
     },
     "execution_count": 40,
     "metadata": {},
     "output_type": "execute_result"
    }
   ],
   "source": [
    "Cat.make_sound()"
   ]
  },
  {
   "cell_type": "code",
   "execution_count": 41,
   "id": "25c44584-b6a4-4420-86df-b1e4e5c0e474",
   "metadata": {},
   "outputs": [],
   "source": [
    "Dog = Dog()"
   ]
  },
  {
   "cell_type": "code",
   "execution_count": 42,
   "id": "2059e140-bbd8-4395-94cf-69012dbd4557",
   "metadata": {},
   "outputs": [
    {
     "data": {
      "text/plain": [
       "'The dog barks'"
      ]
     },
     "execution_count": 42,
     "metadata": {},
     "output_type": "execute_result"
    }
   ],
   "source": [
    "Dog.make_sound()"
   ]
  },
  {
   "cell_type": "code",
   "execution_count": null,
   "id": "e5637a38-78f3-4ff9-a5c9-03d54d4b3e4c",
   "metadata": {},
   "outputs": [],
   "source": []
  }
 ],
 "metadata": {
  "kernelspec": {
   "display_name": "Python 3 (ipykernel)",
   "language": "python",
   "name": "python3"
  },
  "language_info": {
   "codemirror_mode": {
    "name": "ipython",
    "version": 3
   },
   "file_extension": ".py",
   "mimetype": "text/x-python",
   "name": "python",
   "nbconvert_exporter": "python",
   "pygments_lexer": "ipython3",
   "version": "3.10.8"
  }
 },
 "nbformat": 4,
 "nbformat_minor": 5
}
