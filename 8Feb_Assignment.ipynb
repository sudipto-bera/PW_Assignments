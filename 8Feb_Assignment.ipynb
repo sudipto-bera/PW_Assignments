{
 "cells": [
  {
   "cell_type": "code",
   "execution_count": 1,
   "id": "58ff41f1-f06f-4f6c-82b9-a7803e9ee768",
   "metadata": {},
   "outputs": [],
   "source": [
    "\"\"\"\n",
    "An abstractract is a class that cannot be instantiated , and it can be only use as a blueprint for other classes . \n",
    "\n",
    "An interface defines set of methods which need to be implement in class while inherting properties from parent class . \n",
    "\n",
    "\"\"\"\n",
    "\n",
    "from abc import ABC ,abstractmethod\n",
    "\n",
    "class Vehicle(ABC):\n",
    "    \n",
    "    @abstractmethod\n",
    "    def Start(self):\n",
    "        pass\n",
    "    \n",
    "    @abstractmethod\n",
    "    def Stop(self):\n",
    "        pass\n",
    "    \n",
    "class Car(Vehicle):\n",
    "    def Start(self):\n",
    "        return \"Strating the car...\"\n",
    "    \n",
    "    def Stop(self):\n",
    "        return \" Stoping the car... \"\n",
    "    \n",
    "class Bike(Vehicle):\n",
    "    def Start(self):\n",
    "        return \"Strating the Bike...\"\n",
    "    \n",
    "    def Stop(self):\n",
    "        return \"Stoping the Bike...\""
   ]
  },
  {
   "cell_type": "code",
   "execution_count": 2,
   "id": "ce5fc0f7-b194-424e-98be-eb5532148cae",
   "metadata": {},
   "outputs": [],
   "source": [
    "car = Car()"
   ]
  },
  {
   "cell_type": "code",
   "execution_count": 3,
   "id": "640aadc9-44d0-4f53-87ce-a107da435eeb",
   "metadata": {},
   "outputs": [
    {
     "data": {
      "text/plain": [
       "'Strating the car...'"
      ]
     },
     "execution_count": 3,
     "metadata": {},
     "output_type": "execute_result"
    }
   ],
   "source": [
    "car.Start()"
   ]
  },
  {
   "cell_type": "code",
   "execution_count": 4,
   "id": "0b123f39-4558-4432-8703-510620842dab",
   "metadata": {},
   "outputs": [
    {
     "data": {
      "text/plain": [
       "' Stoping the car... '"
      ]
     },
     "execution_count": 4,
     "metadata": {},
     "output_type": "execute_result"
    }
   ],
   "source": [
    "car.Stop()"
   ]
  },
  {
   "cell_type": "code",
   "execution_count": 5,
   "id": "88ea75f9-bbbc-481c-b4da-c5fb90e7b349",
   "metadata": {},
   "outputs": [],
   "source": [
    "bike = Bike()"
   ]
  },
  {
   "cell_type": "code",
   "execution_count": 6,
   "id": "024b3b50-7ad3-4e0a-96d1-876dad20f834",
   "metadata": {},
   "outputs": [
    {
     "data": {
      "text/plain": [
       "'Strating the Bike...'"
      ]
     },
     "execution_count": 6,
     "metadata": {},
     "output_type": "execute_result"
    }
   ],
   "source": [
    "bike.Start()"
   ]
  },
  {
   "cell_type": "code",
   "execution_count": 7,
   "id": "a9f637ce-fa58-4e49-920c-bccba75bab20",
   "metadata": {},
   "outputs": [
    {
     "data": {
      "text/plain": [
       "'Stoping the Bike...'"
      ]
     },
     "execution_count": 7,
     "metadata": {},
     "output_type": "execute_result"
    }
   ],
   "source": [
    "bike.Stop()"
   ]
  },
  {
   "cell_type": "code",
   "execution_count": 8,
   "id": "5d93c161-af1b-4dae-a51b-193c76131928",
   "metadata": {},
   "outputs": [
    {
     "data": {
      "text/plain": [
       "'\\nAbstraction refers to ability to focus on essential feature of an object while ignoring the irrelevant details . \\nIt contains abstact class and interfaces which is neccessary for child class to be implemented . \\nAbstraction is achived using abstract class sand interfaces\\n\\nEncapsulation is the precess of hiding the implepentation details of an object from the outside world . \\nIn other word it protect the internal state of an object from unwanted external acess. \\nEncapsulation is achived using acess modifiers such as private , protected , and public \\n\\n'"
      ]
     },
     "execution_count": 8,
     "metadata": {},
     "output_type": "execute_result"
    }
   ],
   "source": [
    "\"\"\"\n",
    "Abstraction refers to ability to focus on essential feature of an object while ignoring the irrelevant details . \n",
    "It contains abstact class and interfaces which is neccessary for child class to be implemented . \n",
    "Abstraction is achived using abstract class sand interfaces\n",
    "\n",
    "Encapsulation is the precess of hiding the implepentation details of an object from the outside world . \n",
    "In other word it protect the internal state of an object from unwanted external acess. \n",
    "Encapsulation is achived using acess modifiers such as private , protected , and public \n",
    "\n",
    "\"\"\"\n",
    "\n"
   ]
  },
  {
   "cell_type": "code",
   "execution_count": 9,
   "id": "d3737e3f-559b-4675-bb86-62e03d5bab48",
   "metadata": {},
   "outputs": [],
   "source": [
    "# Abstraction example :\n",
    "\n",
    "from abc import ABC , abstractmethod\n",
    "\n",
    "class Vechicle(ABC):\n",
    "    def __init__(self,make,model,color,year,price):\n",
    "        self.make = make\n",
    "        self.model = model\n",
    "        self.color = color\n",
    "        self.year = year\n",
    "        self.price = price\n",
    "        \n",
    "    @abstractmethod\n",
    "    def start(self):\n",
    "        pass\n",
    "    \n",
    "    @abstractmethod\n",
    "    def stop(self):\n",
    "        pass\n",
    "    \n",
    "class Car(Vechicle):\n",
    "    def start(self):\n",
    "        return \"Straing the car...\"\n",
    "\n",
    "    def stop(self):\n",
    "        return \"Stoping the car...\"\n",
    "    \n",
    "    "
   ]
  },
  {
   "cell_type": "code",
   "execution_count": 10,
   "id": "a9c3e0c6-980a-4501-b478-48ac072865b2",
   "metadata": {},
   "outputs": [],
   "source": [
    "car1=Car(\"Toyota\",\"Fortuner\",\"Black\",2022,500000)"
   ]
  },
  {
   "cell_type": "code",
   "execution_count": 11,
   "id": "09ddb767-5f50-4997-9a4c-726cfd780c49",
   "metadata": {},
   "outputs": [
    {
     "data": {
      "text/plain": [
       "'Straing the car...'"
      ]
     },
     "execution_count": 11,
     "metadata": {},
     "output_type": "execute_result"
    }
   ],
   "source": [
    "car1.start()"
   ]
  },
  {
   "cell_type": "code",
   "execution_count": 12,
   "id": "caee9ca5-8733-4a3d-8a76-6d4c02426795",
   "metadata": {},
   "outputs": [
    {
     "data": {
      "text/plain": [
       "'Stoping the car...'"
      ]
     },
     "execution_count": 12,
     "metadata": {},
     "output_type": "execute_result"
    }
   ],
   "source": [
    "car1.stop()"
   ]
  },
  {
   "cell_type": "code",
   "execution_count": 13,
   "id": "c9713287-ff15-4832-9f1e-664cede97455",
   "metadata": {},
   "outputs": [],
   "source": [
    "# Encapsulation example \n",
    "\n",
    "class bank_balance:\n",
    "    \n",
    "    def __init__(self,balance):\n",
    "        self.__balance = balance\n",
    "        \n",
    "    def deposit(self,amount):\n",
    "        self.__balance= self.__balance+amount\n",
    "        \n",
    "    def withdrawl(self,amount):\n",
    "        if self.__balance>=amount:\n",
    "            self.__balance=self.__balance-amount\n",
    "            return True\n",
    "        else :\n",
    "            return False\n",
    "    def get_balance(self):\n",
    "        return self.__balance"
   ]
  },
  {
   "cell_type": "code",
   "execution_count": 14,
   "id": "3fb6c5ca-e809-450c-9daf-df80821aa41a",
   "metadata": {},
   "outputs": [],
   "source": [
    "sudip = bank_balance(1000)"
   ]
  },
  {
   "cell_type": "code",
   "execution_count": 15,
   "id": "ec2a2e0b-d0c5-4128-bae0-9aa7c1b4c5d2",
   "metadata": {},
   "outputs": [
    {
     "data": {
      "text/plain": [
       "1000"
      ]
     },
     "execution_count": 15,
     "metadata": {},
     "output_type": "execute_result"
    }
   ],
   "source": [
    "sudip.get_balance()"
   ]
  },
  {
   "cell_type": "code",
   "execution_count": 16,
   "id": "9eea58a1-0450-4226-853f-53e0960a6f9a",
   "metadata": {},
   "outputs": [],
   "source": [
    "sudip.deposit(5000)"
   ]
  },
  {
   "cell_type": "code",
   "execution_count": 17,
   "id": "ca7b64c0-a6ce-4cfa-bca1-bf8a1ced170e",
   "metadata": {},
   "outputs": [
    {
     "data": {
      "text/plain": [
       "6000"
      ]
     },
     "execution_count": 17,
     "metadata": {},
     "output_type": "execute_result"
    }
   ],
   "source": [
    "sudip.get_balance()"
   ]
  },
  {
   "cell_type": "code",
   "execution_count": 18,
   "id": "8a7fbd47-b7c2-458f-8a99-da7f920c7d34",
   "metadata": {},
   "outputs": [
    {
     "data": {
      "text/plain": [
       "True"
      ]
     },
     "execution_count": 18,
     "metadata": {},
     "output_type": "execute_result"
    }
   ],
   "source": [
    "sudip.withdrawl(2000)"
   ]
  },
  {
   "cell_type": "code",
   "execution_count": 19,
   "id": "c1488439-7ad1-46d8-bfa0-587fa8ca9eb5",
   "metadata": {},
   "outputs": [
    {
     "data": {
      "text/plain": [
       "4000"
      ]
     },
     "execution_count": 19,
     "metadata": {},
     "output_type": "execute_result"
    }
   ],
   "source": [
    "sudip.get_balance()"
   ]
  },
  {
   "cell_type": "code",
   "execution_count": 21,
   "id": "e04402e1-f47c-4143-a00f-e84c25e7a262",
   "metadata": {},
   "outputs": [
    {
     "data": {
      "text/plain": [
       "'\\nThe abc module in Python stands for \"Abstract Base Classes\" and provides a way to define abstract classes in Python. \\nAn abstract class is a class that cannot be instantiated, but can be used as a template for creating other classes.\\n\\nReason to create abc module :\\n1. To create abstract classes\\n2. To enforce class heritance\\n3. To improve readablity of code \\n4. To enforce polymorphism of classes\\n'"
      ]
     },
     "execution_count": 21,
     "metadata": {},
     "output_type": "execute_result"
    }
   ],
   "source": [
    "\"\"\"\n",
    "The abc module in Python stands for \"Abstract Base Classes\" and provides a way to define abstract classes in Python. \n",
    "An abstract class is a class that cannot be instantiated, but can be used as a template for creating other classes.\n",
    "\n",
    "Reason to create abc module :\n",
    "1. To create abstract classes\n",
    "2. To enforce class heritance\n",
    "3. To improve readablity of code \n",
    "4. To enforce polymorphism of classes\n",
    "\"\"\""
   ]
  },
  {
   "cell_type": "code",
   "execution_count": 22,
   "id": "7a95c52f-74d5-4fa8-9e5d-c71d9eac1243",
   "metadata": {},
   "outputs": [
    {
     "data": {
      "text/plain": [
       "'\\nLike in above example of abstraction \"vehicle\" is abstract class contains abstract method but does\\'t return any output but it \\ndeclares certain parameters which is neccessary to use in child class i.e \"car\" class\\n'"
      ]
     },
     "execution_count": 22,
     "metadata": {},
     "output_type": "execute_result"
    }
   ],
   "source": [
    "\"\"\"\n",
    "In Python, abstraction can be achieved by having/using abstract classes and methods in our programs.\n",
    "\n",
    "An abstract method is a method that is declared, but does not contain implementation\n",
    "\"\"\"\n",
    "\"\"\"\n",
    "Like in above example of abstraction \"vehicle\" is abstract class contains abstract method but does't return any output but it \n",
    "declares certain parameters which is neccessary to use in child class i.e \"car\" class\n",
    "\"\"\""
   ]
  },
  {
   "cell_type": "code",
   "execution_count": null,
   "id": "38bbaa36-3a80-4034-a310-0fb930151ce9",
   "metadata": {},
   "outputs": [],
   "source": [
    "\"\"\"\n",
    "Yes , we can create instance of an abstract class \n",
    "\"\"\"\n",
    "\"\"\"\n",
    "Like in the above example of abstraction we define \"start \" and \"stop\" instances in class Vehicle which is also \n",
    "\"\"\""
   ]
  }
 ],
 "metadata": {
  "kernelspec": {
   "display_name": "Python 3 (ipykernel)",
   "language": "python",
   "name": "python3"
  },
  "language_info": {
   "codemirror_mode": {
    "name": "ipython",
    "version": 3
   },
   "file_extension": ".py",
   "mimetype": "text/x-python",
   "name": "python",
   "nbconvert_exporter": "python",
   "pygments_lexer": "ipython3",
   "version": "3.10.8"
  }
 },
 "nbformat": 4,
 "nbformat_minor": 5
}
