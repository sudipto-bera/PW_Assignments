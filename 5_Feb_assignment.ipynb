{
 "cells": [
  {
   "cell_type": "code",
   "execution_count": 2,
   "id": "7f80c2ee-028f-4798-9149-b5629cf7bcb8",
   "metadata": {},
   "outputs": [],
   "source": [
    "\"\"\"\n",
    "Class:\n",
    "  -> It is blueprint of real world entity \n",
    "  ->It is logical entity that defines the structure and behaviour of object \n",
    "  -> Ex : class\"Car\" could contain information like maker , model , color and year\n",
    "  \n",
    "Object :\n",
    "    -> It is real world entity\n",
    "    ->It is also known as instance of class or variable\n",
    "    ->An  oject is a real owrld entity which has it own memory space contains values define within a class \n",
    "    -> Ex : a specific car \"Toyota Fortuner 2023 \" could be object obj of class \"Car\"\n",
    "    \n",
    "\"\"\"\n",
    "class Car :\n",
    "    \n",
    "    def __init__(self, make,model,year):\n",
    "        self.make = make\n",
    "        self.model = model\n",
    "        self.year = year\n",
    "        \n",
    "    def display_car_info(self):\n",
    "        return self.make , self.model , self.year\n",
    "    \n"
   ]
  },
  {
   "cell_type": "code",
   "execution_count": 3,
   "id": "c21fc98b-0393-4ba8-9f19-71760d7d2980",
   "metadata": {},
   "outputs": [],
   "source": [
    "my_car = Car(\"Toyota\",\"Fortuner\",2023) # obj of Car class "
   ]
  },
  {
   "cell_type": "code",
   "execution_count": 4,
   "id": "0a2de1db-5c9d-45f1-b35e-d3cebab1fe35",
   "metadata": {},
   "outputs": [
    {
     "data": {
      "text/plain": [
       "('Toyota', 'Fortuner', 2023)"
      ]
     },
     "execution_count": 4,
     "metadata": {},
     "output_type": "execute_result"
    }
   ],
   "source": [
    "my_car.display_car_info()"
   ]
  },
  {
   "cell_type": "code",
   "execution_count": 5,
   "id": "30d56031-94e8-4155-b958-c44c87844f51",
   "metadata": {},
   "outputs": [
    {
     "data": {
      "text/plain": [
       "'\\nThe four pillars of OOPs are :\\n1. Abstraction \\n2. Encapsulation \\n3. Inheritance\\n4. Ploymorphism\\n\\n'"
      ]
     },
     "execution_count": 5,
     "metadata": {},
     "output_type": "execute_result"
    }
   ],
   "source": [
    "\"\"\"\n",
    "The four pillars of OOPs are :\n",
    "1. Abstraction \n",
    "2. Encapsulation \n",
    "3. Inheritance\n",
    "4. Ploymorphism\n",
    "\n",
    "\"\"\""
   ]
  },
  {
   "cell_type": "code",
   "execution_count": 7,
   "id": "271e0575-1ec3-456e-93e0-f8fa92ef5163",
   "metadata": {},
   "outputs": [
    {
     "data": {
      "text/plain": [
       "(1, 'Sudip')"
      ]
     },
     "execution_count": 7,
     "metadata": {},
     "output_type": "execute_result"
    }
   ],
   "source": [
    "\"\"\"\n",
    "The __init__ function is a special method in Python that is automatically called when an object of a class is created. \n",
    "Also known as Constructor \n",
    "And the main purpose is to initialize the attributes of an object when is created \n",
    "\n",
    "\"\"\"\n",
    "\n",
    "class pwskills:\n",
    "    \n",
    "    def __init__(self, roll_no , name) :\n",
    "        self.roll_no = roll_no \n",
    "        self.name = name\n",
    "        \n",
    "    def student_details(self):\n",
    "        return self.roll_no, self.name\n",
    "\n",
    "s1 = pwskills(1,\"Sudip\")\n",
    "\n",
    "s1.student_details()\n",
    "    "
   ]
  },
  {
   "cell_type": "code",
   "execution_count": 8,
   "id": "27bce370-2198-4cd1-9c51-a6b5c6406f78",
   "metadata": {},
   "outputs": [],
   "source": [
    "\"\"\"\n",
    "->self keywork act as a pointer which is use to bind the data with the class \n",
    "-> first argument is typically referred to as self\n",
    "-> self is not a reserve keyword , we can creare a pointer using another var_name\n",
    "\n",
    "\"\"\"\n",
    "\n",
    "class calculator:\n",
    "    def __init__(self,num1,num2):\n",
    "        self.num1=num1\n",
    "        self.num2=num2\n",
    "    \n",
    "    def add(self):\n",
    "        return self.num1 + self.num2\n",
    "    \n",
    "    def subtract(self):\n",
    "        return   self.num1-self.num2\n",
    "    \n",
    "    def multiply(self):\n",
    "        return self.num1 * self.num2\n",
    "    \n",
    "    def devide(self):\n",
    "        return self.num1/self.num2\n",
    "    "
   ]
  },
  {
   "cell_type": "code",
   "execution_count": 9,
   "id": "501213b5-0272-4110-a418-d7b1d87e7a3d",
   "metadata": {},
   "outputs": [],
   "source": [
    "cal = calculator(20,5)"
   ]
  },
  {
   "cell_type": "code",
   "execution_count": 11,
   "id": "f3e17c3c-474e-46e7-b431-eeff2b18a631",
   "metadata": {},
   "outputs": [
    {
     "data": {
      "text/plain": [
       "25"
      ]
     },
     "execution_count": 11,
     "metadata": {},
     "output_type": "execute_result"
    }
   ],
   "source": [
    "cal.add()"
   ]
  },
  {
   "cell_type": "code",
   "execution_count": 12,
   "id": "3a88c53b-05f9-4a32-99c3-48d495409a26",
   "metadata": {},
   "outputs": [
    {
     "data": {
      "text/plain": [
       "15"
      ]
     },
     "execution_count": 12,
     "metadata": {},
     "output_type": "execute_result"
    }
   ],
   "source": [
    "cal.subtract()"
   ]
  },
  {
   "cell_type": "code",
   "execution_count": 13,
   "id": "c6b7d25d-fab7-4390-9c38-e10d1940e442",
   "metadata": {},
   "outputs": [
    {
     "data": {
      "text/plain": [
       "100"
      ]
     },
     "execution_count": 13,
     "metadata": {},
     "output_type": "execute_result"
    }
   ],
   "source": [
    "cal.multiply()"
   ]
  },
  {
   "cell_type": "code",
   "execution_count": 14,
   "id": "739aee87-4492-47b2-9dc3-27fd1ee89717",
   "metadata": {},
   "outputs": [
    {
     "data": {
      "text/plain": [
       "4.0"
      ]
     },
     "execution_count": 14,
     "metadata": {},
     "output_type": "execute_result"
    }
   ],
   "source": [
    "cal.devide()"
   ]
  },
  {
   "cell_type": "code",
   "execution_count": null,
   "id": "a105c418-9d68-4ad3-a62f-beaf634cfd74",
   "metadata": {},
   "outputs": [],
   "source": []
  }
 ],
 "metadata": {
  "kernelspec": {
   "display_name": "Python 3 (ipykernel)",
   "language": "python",
   "name": "python3"
  },
  "language_info": {
   "codemirror_mode": {
    "name": "ipython",
    "version": 3
   },
   "file_extension": ".py",
   "mimetype": "text/x-python",
   "name": "python",
   "nbconvert_exporter": "python",
   "pygments_lexer": "ipython3",
   "version": "3.10.8"
  }
 },
 "nbformat": 4,
 "nbformat_minor": 5
}
