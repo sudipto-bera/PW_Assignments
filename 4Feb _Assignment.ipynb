{
 "cells": [
  {
   "cell_type": "code",
   "execution_count": 1,
   "id": "dc9b29e0-3ed7-4e4c-a20c-4e87e22d557e",
   "metadata": {},
   "outputs": [
    {
     "data": {
      "text/plain": [
       "[('Virat Kohli', 24936),\n",
       " ('Jack Kallis', 25534),\n",
       " ('Ricky Ponting', 27483),\n",
       " ('Sachin Tendulkar', 34357)]"
      ]
     },
     "execution_count": 1,
     "metadata": {},
     "output_type": "execute_result"
    }
   ],
   "source": [
    "# python program to sort the given list of tuples based on integer value using a lambda function\n",
    "\n",
    "players_score = [('Sachin Tendulkar', 34357), ('Ricky Ponting', 27483), ('Jack Kallis', 25534), ('Virat Kohli', 24936)]\n",
    "\n",
    "sort_palyer= sorted(players_score,key = lambda x:x[1])\n",
    "\n",
    "sort_palyer\n"
   ]
  },
  {
   "cell_type": "code",
   "execution_count": 2,
   "id": "3b3361fa-6bde-436e-b565-c3b731e9dd68",
   "metadata": {},
   "outputs": [
    {
     "data": {
      "text/plain": [
       "[1, 4, 9, 16, 25, 36, 49, 64, 81, 100]"
      ]
     },
     "execution_count": 2,
     "metadata": {},
     "output_type": "execute_result"
    }
   ],
   "source": [
    "# Python Program to find the squares of all the numbers in the given list of integers using lambda and map functions\n",
    "num = [1, 2, 3, 4, 5, 6, 7, 8, 9, 10]\n",
    "\n",
    "list(map(lambda x :x**2,num))\n"
   ]
  },
  {
   "cell_type": "code",
   "execution_count": 3,
   "id": "8f1c3488-952e-4c92-b113-ea4ec31e19e4",
   "metadata": {},
   "outputs": [
    {
     "data": {
      "text/plain": [
       "['1', '2', '3', '4', '5', '6', '7', '8', '9', '10']"
      ]
     },
     "execution_count": 3,
     "metadata": {},
     "output_type": "execute_result"
    }
   ],
   "source": [
    "# python program to convert the given list of integers into a tuple of strings\n",
    "String = [1, 2, 3, 4, 5, 6, 7, 8, 9, 10]\n",
    "list(map(lambda x : str(x),String))"
   ]
  },
  {
   "cell_type": "code",
   "execution_count": 5,
   "id": "334a8b8b-c414-40fa-bc71-2bb287b37e74",
   "metadata": {},
   "outputs": [
    {
     "data": {
      "text/plain": [
       "15511210043330985984000000"
      ]
     },
     "execution_count": 5,
     "metadata": {},
     "output_type": "execute_result"
    }
   ],
   "source": [
    "#python program using reduce function to compute the product of a list\n",
    "\n",
    "from functools import reduce \n",
    "\n",
    "num = list(range(1,26))\n",
    "\n",
    "reduce (lambda x,y:x*y,num)\n"
   ]
  },
  {
   "cell_type": "code",
   "execution_count": 12,
   "id": "8cc80d85-0727-4e63-9de4-f934d910b752",
   "metadata": {},
   "outputs": [
    {
     "data": {
      "text/plain": [
       "[6, 60, 90, 120]"
      ]
     },
     "execution_count": 12,
     "metadata": {},
     "output_type": "execute_result"
    }
   ],
   "source": [
    "# python program to filter the numbers in a given list that are divisible by 2 and 3\n",
    "\n",
    "num = [2, 3, 6, 9, 27, 60, 90, 120, 55, 46]\n",
    "\n",
    "filtered_numbers = list(filter(lambda x: x % 2 == 0 and x % 3 == 0, num))\n",
    "\n",
    "filtered_numbers"
   ]
  },
  {
   "cell_type": "code",
   "execution_count": null,
   "id": "50357f15-9580-4281-a83b-312dba6ce6a6",
   "metadata": {},
   "outputs": [],
   "source": []
  }
 ],
 "metadata": {
  "kernelspec": {
   "display_name": "Python 3 (ipykernel)",
   "language": "python",
   "name": "python3"
  },
  "language_info": {
   "codemirror_mode": {
    "name": "ipython",
    "version": 3
   },
   "file_extension": ".py",
   "mimetype": "text/x-python",
   "name": "python",
   "nbconvert_exporter": "python",
   "pygments_lexer": "ipython3",
   "version": "3.10.8"
  }
 },
 "nbformat": 4,
 "nbformat_minor": 5
}
