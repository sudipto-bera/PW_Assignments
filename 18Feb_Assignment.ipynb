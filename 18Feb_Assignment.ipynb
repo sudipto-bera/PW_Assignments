{
 "cells": [
  {
   "cell_type": "raw",
   "id": "01394590-6597-425d-8aa4-f9ab1ae50e39",
   "metadata": {},
   "source": [
    "API stands for Application Programming Interface. \n",
    "It is set of rules , protocols , and tools that developers use to build applications\n",
    "An API defines how different software components should interact with each other , and it provides a way for developers to access the functionality of another software application \n",
    "The real life example of API can be Google Map where Google map collect data of ours and suggest us place to visit , food place and show us ad based on our location"
   ]
  },
  {
   "cell_type": "raw",
   "id": "c8496ab4-a6ec-4cd3-8d08-fbc6638f8b20",
   "metadata": {},
   "source": [
    "Advantages of using an API :\n",
    "\n",
    "Easy Integration :\n",
    "    APIs make it easy for developers to integrate different application and services , saving time and effert\n",
    "Reusability:\n",
    "    APIs can be reused in different applications , which can save developers a lot of time and effort\n",
    "Customization:\n",
    "    APIs can be customized to suit the needs of different developers and applications\n",
    "Better user experience:\n",
    "    APIs can help to enhance the user experience by providing access to useful features and information\n",
    "Scalablity:\n",
    "    APIs can help to scale applications quickly and easily by allowing developers to add new features and funcctionality as needed"
   ]
  },
  {
   "cell_type": "raw",
   "id": "a7e2ff72-d092-44a4-a0c6-91d5e195c645",
   "metadata": {},
   "source": [
    "Disadvantage of using an API :\n",
    "    \n",
    "Security Risk:\n",
    "    APIs can be vulnarable to security risks such as hacking and data breaches if not properly secured\n",
    "Dependency:\n",
    "    Applications that rely on APIs are dependent on the availablity and reliablity of the API provider \n",
    "Complexity:\n",
    "    Some APIs can be complex and difficut to use , which can be a barrier for some developers\n",
    "Cost:\n",
    "    SOme APIs require payment, which can be a disadvantage for developers who are working on a budget"
   ]
  },
  {
   "cell_type": "raw",
   "id": "5736b3c5-b185-43b7-985d-6ac7c2ba286b",
   "metadata": {},
   "source": [
    "A Web API, also known as a web service, is an API that is designed to used over the internet \n",
    "A Web API allows two software applications to communicate with each other using standard protocols such as HTTP and HTTPS\n",
    "\n",
    "The main difference between an API and Web API is that a Web API is specifically defined to be used over the internet , whereas an API can be used for communicating between any two software components, regardless of whether they are web-based or not \n",
    "\n",
    "ANother difference between APIs and Web APIs is that Web APIs typically use standard web protocols such as HTTP and HTTPS, whereas APIs may use a variety of different communication protocols, depending on the specific needs of the application"
   ]
  },
  {
   "cell_type": "raw",
   "id": "ac131ef0-d159-4a7d-85e3-08b8da3d5a2c",
   "metadata": {},
   "source": [
    "REST Architecture: REST is a lightweight, client-server architecture that uses standard HTTP protocols for communication. RESTful web services are designed around resources, which can be accessed using standard HTTP methods such as GET, POST, PUT, and DELETE. RESTful APIs typically return data in JSON or XML format.\n",
    "\n",
    "SOAP Architecture: SOAP is a more complex architecture that uses XML to encode messages and standard web protocols such as HTTP and SMTP for communication. SOAP web services use a set of standardized XML elements to define the structure and content of messages. SOAP web services are typically designed around operations, which are accessed using SOAP message exchanges.\n",
    "\n",
    "Shortcomings of SOAP:\n",
    "\n",
    "Complexity: \n",
    "    SOAP is a complex protocol that can be difficult to implement and use, particularly for developers who are not familiar with XML or web services.\n",
    "Overhead: \n",
    "    SOAP messages can be quite large due to the use of XML, which can create performance and bandwidth issues, particularly for high-traffic web services.\n",
    "Poor caching: \n",
    "    SOAP web services do not support caching as well as RESTful web services, which can result in slower response times and increased server load.\n",
    "Poor compatibility:\n",
    "    SOAP web services can be difficult to integrate with other web services or applications that do not use SOAP, as it requires a significant amount of custom code to handle the SOAP message format.\n",
    "Poor scalability:\n",
    "    SOAP web services can be less scalable than RESTful web services due to the overhead associated with the XML-based message format."
   ]
  },
  {
   "cell_type": "code",
   "execution_count": null,
   "id": "67a070fb-a206-4efb-8f3e-b340caa9d446",
   "metadata": {},
   "outputs": [],
   "source": []
  }
 ],
 "metadata": {
  "kernelspec": {
   "display_name": "Python 3 (ipykernel)",
   "language": "python",
   "name": "python3"
  },
  "language_info": {
   "codemirror_mode": {
    "name": "ipython",
    "version": 3
   },
   "file_extension": ".py",
   "mimetype": "text/x-python",
   "name": "python",
   "nbconvert_exporter": "python",
   "pygments_lexer": "ipython3",
   "version": "3.10.8"
  }
 },
 "nbformat": 4,
 "nbformat_minor": 5
}
