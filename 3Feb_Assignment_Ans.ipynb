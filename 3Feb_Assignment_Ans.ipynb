{
 "cells": [
  {
   "cell_type": "code",
   "execution_count": 1,
   "id": "ebca2c2f-a8fa-4660-95fc-81cdfb57300e",
   "metadata": {},
   "outputs": [
    {
     "data": {
      "text/plain": [
       "[1, 3, 5, 7, 9, 11, 13, 15, 17, 19, 21, 23, 25]"
      ]
     },
     "execution_count": 1,
     "metadata": {},
     "output_type": "execute_result"
    }
   ],
   "source": [
    "\"\"\"def keyword is used to create function\"\"\"\n",
    "\n",
    "#Create a function to return a list of odd numbers in the  range of 1 to 25\n",
    "\n",
    "My_list = list(range(1,26))\n",
    "\n",
    "odd_num=list(filter(lambda x : x%2 != 0,My_list))\n",
    "\n",
    "odd_num"
   ]
  },
  {
   "cell_type": "code",
   "execution_count": 2,
   "id": "0c976ea2-e5da-491f-9976-698812bd4ce2",
   "metadata": {},
   "outputs": [
    {
     "data": {
      "text/plain": [
       "(1, 2, 3, 4, 5)"
      ]
     },
     "execution_count": 2,
     "metadata": {},
     "output_type": "execute_result"
    }
   ],
   "source": [
    "#function with *args \n",
    "\n",
    "def test_args(*args): \n",
    "    \"\"\"use to n numbers of arguments within the function\"\"\"\n",
    "    return args\n",
    "\n",
    "test_args(1,2,3,4,5)\n"
   ]
  },
  {
   "cell_type": "code",
   "execution_count": 3,
   "id": "0cc911a9-f4ce-4742-b20b-7a97f6e42e84",
   "metadata": {},
   "outputs": [
    {
     "data": {
      "text/plain": [
       "{'First': 1, 'Second': 2, 'Third': 3}"
      ]
     },
     "execution_count": 3,
     "metadata": {},
     "output_type": "execute_result"
    }
   ],
   "source": [
    "#function with **kwargs\n",
    "\n",
    "def test_kwargs(**kwargs):\n",
    "    \"\"\"use to pass dictionary within the function\"\"\"\n",
    "    return kwargs\n",
    "\n",
    "test_kwargs(First=1,Second=2,Third=3)"
   ]
  },
  {
   "cell_type": "code",
   "execution_count": 4,
   "id": "88ab860b-4a0e-449c-b48e-e781ca7d9205",
   "metadata": {},
   "outputs": [
    {
     "name": "stdout",
     "output_type": "stream",
     "text": [
      "2\n",
      "4\n",
      "6\n",
      "8\n",
      "10\n"
     ]
    }
   ],
   "source": [
    "#An object is considered an iterator if it can be iterated upon , next() metod is use to iterate an item from that object \n",
    "\n",
    "num = [2, 4, 6, 8, 10, 12, 14, 16, 18, 20]\n",
    "\n",
    "num_iterator = iter(num)\n",
    "\n",
    "for i in range(5):\n",
    "    print(next(num_iterator))\n"
   ]
  },
  {
   "cell_type": "code",
   "execution_count": 6,
   "id": "a735ac47-97b2-425f-824b-2d839531061f",
   "metadata": {},
   "outputs": [
    {
     "name": "stdout",
     "output_type": "stream",
     "text": [
      "0\n",
      "1\n",
      "1\n",
      "2\n",
      "3\n"
     ]
    }
   ],
   "source": [
    "\"\"\"Genarator Function is a special type of function in python . It is use to optimize memomy in runtime as it doesn't hold up \n",
    "everything in memory beforn returning the output\n",
    "yield keyword is use to create a Genetor function\n",
    "\"\"\"\n",
    "def test_fib(n):\n",
    "    a,b =0,1\n",
    "    for i in range(n):\n",
    "        yield a\n",
    "        a,b=b,a+b\n",
    "\n",
    "for i in test_fib(5):\n",
    "    print(i)\n",
    "        "
   ]
  },
  {
   "cell_type": "code",
   "execution_count": 7,
   "id": "b2b29fde-175f-4e91-83b6-966241f2f9b3",
   "metadata": {},
   "outputs": [
    {
     "name": "stdout",
     "output_type": "stream",
     "text": [
      "2\n",
      "3\n",
      "5\n",
      "7\n",
      "11\n",
      "13\n",
      "17\n",
      "19\n",
      "23\n",
      "29\n",
      "31\n",
      "37\n",
      "41\n",
      "43\n",
      "47\n",
      "53\n",
      "59\n",
      "61\n",
      "67\n",
      "71\n"
     ]
    }
   ],
   "source": [
    "# generator function for prime numbers less than 1000. Use the next() method to print the  first 20 prime numbers. \n",
    "\n",
    "def prime_numbers():\n",
    "    for num in range(2, 1000):\n",
    "        for i in range(2, num):\n",
    "            if (num % i) == 0:\n",
    "                break\n",
    "        else:\n",
    "            yield num\n",
    "\n",
    "primes = prime_numbers()\n",
    "\n",
    "for i in range(20):\n",
    "    print(next(primes))\n"
   ]
  },
  {
   "cell_type": "code",
   "execution_count": 8,
   "id": "514948e1-99e6-40fc-b351-95590319d8a7",
   "metadata": {},
   "outputs": [
    {
     "data": {
      "text/plain": [
       "['p', 'w', 's', 'k', 'i', 'l', 'l', 's']"
      ]
     },
     "execution_count": 8,
     "metadata": {},
     "output_type": "execute_result"
    }
   ],
   "source": [
    "# List Comprehension to iterate through the given string: ‘pwskills’\n",
    "word= \"pwskills\"\n",
    "list_comprehension=[i for i in word]\n",
    "list_comprehension"
   ]
  },
  {
   "cell_type": "code",
   "execution_count": 1,
   "id": "72c92c49-5992-42a4-a9a4-327175e45f34",
   "metadata": {},
   "outputs": [
    {
     "name": "stdin",
     "output_type": "stream",
     "text": [
      "Enter a number:  642\n"
     ]
    },
    {
     "name": "stdout",
     "output_type": "stream",
     "text": [
      "The number is not a palindrome.\n"
     ]
    }
   ],
   "source": [
    "#Python program to check whether a given number is Palindrome or not using a while loop\n",
    "\n",
    "def is_palindrome(number):\n",
    "    original = number\n",
    "    reverse = 0\n",
    "\n",
    "    while number > 0:\n",
    "        reverse = (reverse * 10) + (number % 10)\n",
    "        number = number // 10\n",
    "\n",
    "    return original == reverse\n",
    "\n",
    "number = int(input(\"Enter a number: \"))\n",
    "\n",
    "if is_palindrome(number):\n",
    "    print(\"The number is a palindrome.\")\n",
    "else:\n",
    "    print(\"The number is not a palindrome.\")\n",
    "\n"
   ]
  },
  {
   "cell_type": "code",
   "execution_count": 6,
   "id": "cb24135d-a604-422c-8a46-1f89ef9f506c",
   "metadata": {},
   "outputs": [
    {
     "name": "stdout",
     "output_type": "stream",
     "text": [
      "[1, 3, 5, 7, 9, 11, 13, 15, 17, 19, 21, 23, 25, 27, 29, 31, 33, 35, 37, 39, 41, 43, 45, 47, 49, 51, 53, 55, 57, 59, 61, 63, 65, 67, 69, 71, 73, 75, 77, 79, 81, 83, 85, 87, 89, 91, 93, 95, 97, 99]\n"
     ]
    }
   ],
   "source": [
    "# print odd numbers from 1 to 100 using list comprehension\n",
    "list1= list(range(1,101))\n",
    "odd_num=[num for num in list1 if num % 2 !=0]\n",
    "print(odd_num,sep=\",\")"
   ]
  },
  {
   "cell_type": "code",
   "execution_count": null,
   "id": "0c4df779-c1eb-4559-bd59-4f8d44e92750",
   "metadata": {},
   "outputs": [],
   "source": []
  }
 ],
 "metadata": {
  "kernelspec": {
   "display_name": "Python 3 (ipykernel)",
   "language": "python",
   "name": "python3"
  },
  "language_info": {
   "codemirror_mode": {
    "name": "ipython",
    "version": 3
   },
   "file_extension": ".py",
   "mimetype": "text/x-python",
   "name": "python",
   "nbconvert_exporter": "python",
   "pygments_lexer": "ipython3",
   "version": "3.10.8"
  }
 },
 "nbformat": 4,
 "nbformat_minor": 5
}
