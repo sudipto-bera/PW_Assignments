{
 "cells": [
  {
   "cell_type": "code",
   "execution_count": 46,
   "id": "6523ff2a-dab5-4242-83af-71474bf5d6f5",
   "metadata": {},
   "outputs": [],
   "source": [
    "def flattern_and_product(lst):\n",
    "    num = [] \n",
    "    for item in lst :\n",
    "        if type(item)== int or type(item)==float:\n",
    "            num.append(item)\n",
    "        elif type(item)== float or type(item)==tuple or type(item)== set:\n",
    "            num.extend(item)\n",
    "        elif type(item) == dict:\n",
    "            for key, values in item.items():\n",
    "                if type(key)== int or type(key) == float :\n",
    "                    num.append(key)\n",
    "                if type(values)== int or type(values) == float:\n",
    "                    num.append(values)\n",
    "                elif type(values)==list or type(values)== tuple or type(values)==set:\n",
    "                    num.extend(flattern_and_product(values))\n",
    "    return num"
   ]
  },
  {
   "cell_type": "code",
   "execution_count": 50,
   "id": "acf24b3e-4142-4351-b520-6429c7899242",
   "metadata": {},
   "outputs": [
    {
     "data": {
      "text/plain": [
       "462272351502080144587161600"
      ]
     },
     "execution_count": 50,
     "metadata": {},
     "output_type": "execute_result"
    }
   ],
   "source": [
    "from functools import  reduce\n",
    "list1 = [1,2,3,4, [44,55,66, True], False, (34,56,78,89,34), {1,2,3,3,2,1}, {1:34, \"key2\": [55, 67, 78, 89], 4: (45,22, 61, 34)}, [56, 'data science'], 'Machine Learning']\n",
    "list1 = flattern_and_product(list1)\n",
    "result = reduce(lambda x, y: x * y, list1)\n",
    "result"
   ]
  },
  {
   "cell_type": "code",
   "execution_count": 51,
   "id": "ade3fe3b-368f-4683-bae7-37b86cbb5a11",
   "metadata": {},
   "outputs": [
    {
     "name": "stdout",
     "output_type": "stream",
     "text": [
      "Encrypted Sentence: r$dzmg$gl$yvxlnv$z$wzgz$hxrvmgrhg.\n"
     ]
    }
   ],
   "source": [
    "def encrypt_sentence(sentence):\n",
    "    sentence = sentence.lower() # convert sentence to lowercase\n",
    "    encryption_dict = {\n",
    "        'a': 'z', 'b': 'y', 'c': 'x', 'd': 'w', 'e': 'v', 'f': 'u', 'g': 't', 'h': 's', 'i': 'r', 'j': 'q',\n",
    "        'k': 'p', 'l': 'o', 'm': 'n', 'n': 'm', 'o': 'l', 'p': 'k', 'q': 'j', 'r': 'i', 's': 'h', 't': 'g',\n",
    "        'u': 'f', 'v': 'e', 'w': 'd', 'x': 'c', 'y': 'b', 'z': 'a', ' ': '$' # replace spaces with dollar sign\n",
    "    }\n",
    "    encrypted_sentence = \"\"\n",
    "    for char in sentence:\n",
    "        if char in encryption_dict:\n",
    "            encrypted_sentence += encryption_dict[char]\n",
    "        else:\n",
    "            encrypted_sentence += char # keep punctuation marks unchanged\n",
    "    return encrypted_sentence\n",
    "\n",
    "sentence = \"I want to become a Data Scientist.\"\n",
    "encrypted_sentence = encrypt_sentence(sentence)\n",
    "print(\"Encrypted Sentence:\", encrypted_sentence)\n"
   ]
  },
  {
   "cell_type": "code",
   "execution_count": null,
   "id": "6d4c18e1-cfbf-4fb5-844c-ce60e87c3afb",
   "metadata": {},
   "outputs": [],
   "source": []
  }
 ],
 "metadata": {
  "kernelspec": {
   "display_name": "Python 3 (ipykernel)",
   "language": "python",
   "name": "python3"
  },
  "language_info": {
   "codemirror_mode": {
    "name": "ipython",
    "version": 3
   },
   "file_extension": ".py",
   "mimetype": "text/x-python",
   "name": "python",
   "nbconvert_exporter": "python",
   "pygments_lexer": "ipython3",
   "version": "3.10.8"
  }
 },
 "nbformat": 4,
 "nbformat_minor": 5
}
